{
 "cells": [
  {
   "attachments": {},
   "cell_type": "markdown",
   "metadata": {},
   "source": [
    "                        What makes an animal more desirable in the adoption process?"
   ]
  },
  {
   "attachments": {},
   "cell_type": "markdown",
   "metadata": {},
   "source": [
    "The aim of this project is to find out which are the most relevant features when considering the rate of animal adoption at Austin Animal Center . Some of the essential questions for developing this project are related to the animals' income type (how the animal has come to live in the Shelter), outcome condition (The state of the animal upon admition to the shelter),\tanimal type (Dog, cat, ect.),\tsex upon outcome (animal's sex), age upon intake(age upon admition to the shelter),\tbreed,\tcolor,\tdatetime outcome (The date when the animal leaves the shelter),\tdate_of_birth,\toutcome_type(adopted or not adopted),\tage_upon_outcome,\tyears_in_shelter.\n",
    "\n",
    "The dataset used for this analysis was taken from https://data.austintexas.gov/Health-and-Community-Services/Austin-Animal-Center-Intakes/wter-evkm. The data consists of the Animal Center Intakes from Oct, 1st 2013 to present. Intakes represent the status of animals as they arrive at the Animal Center. The data set contains 124120 rows and more than 30 columns of which not all are relevant to this EDA. Only the features that have information to answer the questions to achieve the goal of the project were deployed. The most powerful tools for data analysis used in this project are the packages Numpy and Pandas, and to visualize and explore the data: Matplotlib and Seaborn."
   ]
  },
  {
   "attachments": {},
   "cell_type": "markdown",
   "metadata": {},
   "source": [
    "TABLE OF CONTENTS\n",
    "1. Reading the Dataset.\n",
    "This part presents the steps to read the dataset about Austin animal shelter.\n",
    "\n",
    "2. Data Preparation: Cleaning and Formatting.\n",
    "The data preparation process is essential in any data analysis project since it allows researchers to identify and deal with aspects that might interfere with quantitative analysis or result in inefficient coding. This process often consumes up to 80% of the total duration of a data analysis project. As a result, inconsistent, invalid, and missing values have to be dealt with.\n",
    "\n",
    "3. Exploratory Data Analysis (EDA) and Visualization.\n",
    "This stage gives globally applicable information about the various columns of the dataset before posing questions that may help achieve the project's goal. Initial analyses were carried out to start identifying patterns, formulating hypotheses, and validating initial assumptions. \n",
    "\n",
    "The following questions and hypotheses were created to construct this project:\n",
    "\n",
    "* Does age affect animal's adoption rate?\n",
    "* Does animal's health condition upon entering shelter have an impact on its adoption rate?\n",
    "* Does animal's reason for entering shelter have an impact on its adoption rate?\n",
    "* Does animal's type  have an impact on its adoption rate?\n",
    "* Is there a difference between adoption rate of spayed and unspayed females? \n",
    "* Is there a difference between adoption rate of neutered and not neutered males? Finally we can ask \n",
    "* Is there a difference between males and females when it comes to adoption rate?\n",
    "* Does the color of an animal affects its adoption chances?\n",
    "* Does the breed of an animal affects its adoption chances?\n",
    "* Does the time spent in the shelter affect animal's adoption chances?\n",
    "4. Inferences and Conclusions.\n",
    "Although all findings and solutions are discussed in the preceding part in accordance with each issue, the most important insights are also presented in a condensed form in this section.\n",
    "\n"
   ]
  },
  {
   "attachments": {},
   "cell_type": "markdown",
   "metadata": {},
   "source": [
    "                                                1. Reading the Dataset"
   ]
  },
  {
   "cell_type": "markdown",
   "metadata": {},
   "source": [
    "We'll start with importing all the neccessary libraries"
   ]
  },
  {
   "cell_type": "code",
   "execution_count": 2,
   "metadata": {},
   "outputs": [],
   "source": [
    "import pandas as pd\n",
    "import numpy as np\n",
    "import seaborn as sns\n",
    "import matplotlib.pyplot as plt\n",
    "import scipy"
   ]
  },
  {
   "cell_type": "markdown",
   "metadata": {},
   "source": [
    "Now we can import the first csv file with the animal shelter intake information. With this we can start identifying the most usefull information"
   ]
  },
  {
   "cell_type": "code",
   "execution_count": 136,
   "metadata": {},
   "outputs": [
    {
     "data": {
      "text/html": [
       "<div>\n",
       "<style scoped>\n",
       "    .dataframe tbody tr th:only-of-type {\n",
       "        vertical-align: middle;\n",
       "    }\n",
       "\n",
       "    .dataframe tbody tr th {\n",
       "        vertical-align: top;\n",
       "    }\n",
       "\n",
       "    .dataframe thead th {\n",
       "        text-align: right;\n",
       "    }\n",
       "</style>\n",
       "<table border=\"1\" class=\"dataframe\">\n",
       "  <thead>\n",
       "    <tr style=\"text-align: right;\">\n",
       "      <th></th>\n",
       "      <th>Animal ID</th>\n",
       "      <th>Name</th>\n",
       "      <th>DateTime</th>\n",
       "      <th>MonthYear</th>\n",
       "      <th>Found Location</th>\n",
       "      <th>Intake Type</th>\n",
       "      <th>Intake Condition</th>\n",
       "      <th>Animal Type</th>\n",
       "      <th>Sex upon Intake</th>\n",
       "      <th>Age upon Intake</th>\n",
       "      <th>Breed</th>\n",
       "      <th>Color</th>\n",
       "    </tr>\n",
       "  </thead>\n",
       "  <tbody>\n",
       "    <tr>\n",
       "      <th>0</th>\n",
       "      <td>A786884</td>\n",
       "      <td>*Brock</td>\n",
       "      <td>01/03/2019 04:19:00 PM</td>\n",
       "      <td>01/03/2019 04:19:00 PM</td>\n",
       "      <td>2501 Magin Meadow Dr in Austin (TX)</td>\n",
       "      <td>Stray</td>\n",
       "      <td>Normal</td>\n",
       "      <td>Dog</td>\n",
       "      <td>Neutered Male</td>\n",
       "      <td>2 years</td>\n",
       "      <td>Beagle Mix</td>\n",
       "      <td>Tricolor</td>\n",
       "    </tr>\n",
       "    <tr>\n",
       "      <th>1</th>\n",
       "      <td>A706918</td>\n",
       "      <td>Belle</td>\n",
       "      <td>07/05/2015 12:59:00 PM</td>\n",
       "      <td>07/05/2015 12:59:00 PM</td>\n",
       "      <td>9409 Bluegrass Dr in Austin (TX)</td>\n",
       "      <td>Stray</td>\n",
       "      <td>Normal</td>\n",
       "      <td>Dog</td>\n",
       "      <td>Spayed Female</td>\n",
       "      <td>8 years</td>\n",
       "      <td>English Springer Spaniel</td>\n",
       "      <td>White/Liver</td>\n",
       "    </tr>\n",
       "    <tr>\n",
       "      <th>2</th>\n",
       "      <td>A724273</td>\n",
       "      <td>Runster</td>\n",
       "      <td>04/14/2016 06:43:00 PM</td>\n",
       "      <td>04/14/2016 06:43:00 PM</td>\n",
       "      <td>2818 Palomino Trail in Austin (TX)</td>\n",
       "      <td>Stray</td>\n",
       "      <td>Normal</td>\n",
       "      <td>Dog</td>\n",
       "      <td>Intact Male</td>\n",
       "      <td>11 months</td>\n",
       "      <td>Basenji Mix</td>\n",
       "      <td>Sable/White</td>\n",
       "    </tr>\n",
       "    <tr>\n",
       "      <th>3</th>\n",
       "      <td>A665644</td>\n",
       "      <td>NaN</td>\n",
       "      <td>10/21/2013 07:59:00 AM</td>\n",
       "      <td>10/21/2013 07:59:00 AM</td>\n",
       "      <td>Austin (TX)</td>\n",
       "      <td>Stray</td>\n",
       "      <td>Sick</td>\n",
       "      <td>Cat</td>\n",
       "      <td>Intact Female</td>\n",
       "      <td>4 weeks</td>\n",
       "      <td>Domestic Shorthair Mix</td>\n",
       "      <td>Calico</td>\n",
       "    </tr>\n",
       "    <tr>\n",
       "      <th>4</th>\n",
       "      <td>A682524</td>\n",
       "      <td>Rio</td>\n",
       "      <td>06/29/2014 10:38:00 AM</td>\n",
       "      <td>06/29/2014 10:38:00 AM</td>\n",
       "      <td>800 Grove Blvd in Austin (TX)</td>\n",
       "      <td>Stray</td>\n",
       "      <td>Normal</td>\n",
       "      <td>Dog</td>\n",
       "      <td>Neutered Male</td>\n",
       "      <td>4 years</td>\n",
       "      <td>Doberman Pinsch/Australian Cattle Dog</td>\n",
       "      <td>Tan/Gray</td>\n",
       "    </tr>\n",
       "  </tbody>\n",
       "</table>\n",
       "</div>"
      ],
      "text/plain": [
       "  Animal ID     Name                DateTime               MonthYear  \\\n",
       "0   A786884   *Brock  01/03/2019 04:19:00 PM  01/03/2019 04:19:00 PM   \n",
       "1   A706918    Belle  07/05/2015 12:59:00 PM  07/05/2015 12:59:00 PM   \n",
       "2   A724273  Runster  04/14/2016 06:43:00 PM  04/14/2016 06:43:00 PM   \n",
       "3   A665644      NaN  10/21/2013 07:59:00 AM  10/21/2013 07:59:00 AM   \n",
       "4   A682524      Rio  06/29/2014 10:38:00 AM  06/29/2014 10:38:00 AM   \n",
       "\n",
       "                        Found Location Intake Type Intake Condition  \\\n",
       "0  2501 Magin Meadow Dr in Austin (TX)       Stray           Normal   \n",
       "1     9409 Bluegrass Dr in Austin (TX)       Stray           Normal   \n",
       "2   2818 Palomino Trail in Austin (TX)       Stray           Normal   \n",
       "3                          Austin (TX)       Stray             Sick   \n",
       "4        800 Grove Blvd in Austin (TX)       Stray           Normal   \n",
       "\n",
       "  Animal Type Sex upon Intake Age upon Intake  \\\n",
       "0         Dog   Neutered Male         2 years   \n",
       "1         Dog   Spayed Female         8 years   \n",
       "2         Dog     Intact Male       11 months   \n",
       "3         Cat   Intact Female         4 weeks   \n",
       "4         Dog   Neutered Male         4 years   \n",
       "\n",
       "                                   Breed        Color  \n",
       "0                             Beagle Mix     Tricolor  \n",
       "1               English Springer Spaniel  White/Liver  \n",
       "2                            Basenji Mix  Sable/White  \n",
       "3                 Domestic Shorthair Mix       Calico  \n",
       "4  Doberman Pinsch/Australian Cattle Dog     Tan/Gray  "
      ]
     },
     "execution_count": 136,
     "metadata": {},
     "output_type": "execute_result"
    }
   ],
   "source": [
    "\n",
    "df = pd.read_csv('Austin_Animal_Center_Intakes.csv')\n",
    "df.head()"
   ]
  },
  {
   "cell_type": "code",
   "execution_count": 137,
   "metadata": {},
   "outputs": [],
   "source": [
    "df_1 = pd.read_csv('Austin_Animal_Center_Outcomes.csv')\n"
   ]
  },
  {
   "cell_type": "code",
   "execution_count": 138,
   "metadata": {},
   "outputs": [
    {
     "data": {
      "text/html": [
       "<div>\n",
       "<style scoped>\n",
       "    .dataframe tbody tr th:only-of-type {\n",
       "        vertical-align: middle;\n",
       "    }\n",
       "\n",
       "    .dataframe tbody tr th {\n",
       "        vertical-align: top;\n",
       "    }\n",
       "\n",
       "    .dataframe thead th {\n",
       "        text-align: right;\n",
       "    }\n",
       "</style>\n",
       "<table border=\"1\" class=\"dataframe\">\n",
       "  <thead>\n",
       "    <tr style=\"text-align: right;\">\n",
       "      <th></th>\n",
       "      <th>Animal ID</th>\n",
       "      <th>Name</th>\n",
       "      <th>DateTime</th>\n",
       "      <th>MonthYear</th>\n",
       "      <th>Date of Birth</th>\n",
       "      <th>Outcome Type</th>\n",
       "      <th>Outcome Subtype</th>\n",
       "      <th>Animal Type</th>\n",
       "      <th>Sex upon Outcome</th>\n",
       "      <th>Age upon Outcome</th>\n",
       "      <th>Breed</th>\n",
       "      <th>Color</th>\n",
       "    </tr>\n",
       "  </thead>\n",
       "  <tbody>\n",
       "    <tr>\n",
       "      <th>0</th>\n",
       "      <td>A794011</td>\n",
       "      <td>Chunk</td>\n",
       "      <td>05/08/2019 06:20:00 PM</td>\n",
       "      <td>05/08/2019 06:20:00 PM</td>\n",
       "      <td>05/02/2017</td>\n",
       "      <td>Rto-Adopt</td>\n",
       "      <td>NaN</td>\n",
       "      <td>Cat</td>\n",
       "      <td>Neutered Male</td>\n",
       "      <td>2 years</td>\n",
       "      <td>Domestic Shorthair Mix</td>\n",
       "      <td>Brown Tabby/White</td>\n",
       "    </tr>\n",
       "    <tr>\n",
       "      <th>1</th>\n",
       "      <td>A776359</td>\n",
       "      <td>Gizmo</td>\n",
       "      <td>07/18/2018 04:02:00 PM</td>\n",
       "      <td>07/18/2018 04:02:00 PM</td>\n",
       "      <td>07/12/2017</td>\n",
       "      <td>Adoption</td>\n",
       "      <td>NaN</td>\n",
       "      <td>Dog</td>\n",
       "      <td>Neutered Male</td>\n",
       "      <td>1 year</td>\n",
       "      <td>Chihuahua Shorthair Mix</td>\n",
       "      <td>White/Brown</td>\n",
       "    </tr>\n",
       "    <tr>\n",
       "      <th>2</th>\n",
       "      <td>A821648</td>\n",
       "      <td>NaN</td>\n",
       "      <td>08/16/2020 11:38:00 AM</td>\n",
       "      <td>08/16/2020 11:38:00 AM</td>\n",
       "      <td>08/16/2019</td>\n",
       "      <td>Euthanasia</td>\n",
       "      <td>NaN</td>\n",
       "      <td>Other</td>\n",
       "      <td>Unknown</td>\n",
       "      <td>1 year</td>\n",
       "      <td>Raccoon</td>\n",
       "      <td>Gray</td>\n",
       "    </tr>\n",
       "    <tr>\n",
       "      <th>3</th>\n",
       "      <td>A720371</td>\n",
       "      <td>Moose</td>\n",
       "      <td>02/13/2016 05:59:00 PM</td>\n",
       "      <td>02/13/2016 05:59:00 PM</td>\n",
       "      <td>10/08/2015</td>\n",
       "      <td>Adoption</td>\n",
       "      <td>NaN</td>\n",
       "      <td>Dog</td>\n",
       "      <td>Neutered Male</td>\n",
       "      <td>4 months</td>\n",
       "      <td>Anatol Shepherd/Labrador Retriever</td>\n",
       "      <td>Buff</td>\n",
       "    </tr>\n",
       "    <tr>\n",
       "      <th>4</th>\n",
       "      <td>A674754</td>\n",
       "      <td>NaN</td>\n",
       "      <td>03/18/2014 11:47:00 AM</td>\n",
       "      <td>03/18/2014 11:47:00 AM</td>\n",
       "      <td>03/12/2014</td>\n",
       "      <td>Transfer</td>\n",
       "      <td>Partner</td>\n",
       "      <td>Cat</td>\n",
       "      <td>Intact Male</td>\n",
       "      <td>6 days</td>\n",
       "      <td>Domestic Shorthair Mix</td>\n",
       "      <td>Orange Tabby</td>\n",
       "    </tr>\n",
       "  </tbody>\n",
       "</table>\n",
       "</div>"
      ],
      "text/plain": [
       "  Animal ID   Name                DateTime               MonthYear  \\\n",
       "0   A794011  Chunk  05/08/2019 06:20:00 PM  05/08/2019 06:20:00 PM   \n",
       "1   A776359  Gizmo  07/18/2018 04:02:00 PM  07/18/2018 04:02:00 PM   \n",
       "2   A821648    NaN  08/16/2020 11:38:00 AM  08/16/2020 11:38:00 AM   \n",
       "3   A720371  Moose  02/13/2016 05:59:00 PM  02/13/2016 05:59:00 PM   \n",
       "4   A674754    NaN  03/18/2014 11:47:00 AM  03/18/2014 11:47:00 AM   \n",
       "\n",
       "  Date of Birth Outcome Type Outcome Subtype Animal Type Sex upon Outcome  \\\n",
       "0    05/02/2017    Rto-Adopt             NaN         Cat    Neutered Male   \n",
       "1    07/12/2017     Adoption             NaN         Dog    Neutered Male   \n",
       "2    08/16/2019   Euthanasia             NaN       Other          Unknown   \n",
       "3    10/08/2015     Adoption             NaN         Dog    Neutered Male   \n",
       "4    03/12/2014     Transfer         Partner         Cat      Intact Male   \n",
       "\n",
       "  Age upon Outcome                               Breed              Color  \n",
       "0          2 years              Domestic Shorthair Mix  Brown Tabby/White  \n",
       "1           1 year             Chihuahua Shorthair Mix        White/Brown  \n",
       "2           1 year                             Raccoon               Gray  \n",
       "3         4 months  Anatol Shepherd/Labrador Retriever               Buff  \n",
       "4           6 days              Domestic Shorthair Mix       Orange Tabby  "
      ]
     },
     "execution_count": 138,
     "metadata": {},
     "output_type": "execute_result"
    }
   ],
   "source": [
    "df_1.head()"
   ]
  },
  {
   "attachments": {},
   "cell_type": "markdown",
   "metadata": {},
   "source": [
    "                                        2. Data Preparation: Cleaning and Formatting."
   ]
  },
  {
   "attachments": {},
   "cell_type": "markdown",
   "metadata": {},
   "source": [
    "Now, let's see some additional information. Looking at the tables below, if we check the number of non-null elements in each column, we can see that several columns, such as name, have multiple null or NaN values.. "
   ]
  },
  {
   "cell_type": "code",
   "execution_count": 139,
   "metadata": {},
   "outputs": [
    {
     "name": "stdout",
     "output_type": "stream",
     "text": [
      "<class 'pandas.core.frame.DataFrame'>\n",
      "RangeIndex: 124120 entries, 0 to 124119\n",
      "Data columns (total 12 columns):\n",
      " #   Column            Non-Null Count   Dtype \n",
      "---  ------            --------------   ----- \n",
      " 0   Animal ID         124120 non-null  object\n",
      " 1   Name              85069 non-null   object\n",
      " 2   DateTime          124120 non-null  object\n",
      " 3   MonthYear         124120 non-null  object\n",
      " 4   Found Location    124120 non-null  object\n",
      " 5   Intake Type       124120 non-null  object\n",
      " 6   Intake Condition  124120 non-null  object\n",
      " 7   Animal Type       124120 non-null  object\n",
      " 8   Sex upon Intake   124119 non-null  object\n",
      " 9   Age upon Intake   124120 non-null  object\n",
      " 10  Breed             124120 non-null  object\n",
      " 11  Color             124120 non-null  object\n",
      "dtypes: object(12)\n",
      "memory usage: 11.4+ MB\n"
     ]
    }
   ],
   "source": [
    "\n",
    "df.info()"
   ]
  },
  {
   "cell_type": "code",
   "execution_count": 140,
   "metadata": {},
   "outputs": [
    {
     "data": {
      "text/plain": [
       "(124120, 12)"
      ]
     },
     "execution_count": 140,
     "metadata": {},
     "output_type": "execute_result"
    }
   ],
   "source": [
    "df.shape"
   ]
  },
  {
   "cell_type": "code",
   "execution_count": 141,
   "metadata": {},
   "outputs": [
    {
     "name": "stdout",
     "output_type": "stream",
     "text": [
      "<class 'pandas.core.frame.DataFrame'>\n",
      "RangeIndex: 124491 entries, 0 to 124490\n",
      "Data columns (total 12 columns):\n",
      " #   Column            Non-Null Count   Dtype \n",
      "---  ------            --------------   ----- \n",
      " 0   Animal ID         124491 non-null  object\n",
      " 1   Name              85466 non-null   object\n",
      " 2   DateTime          124491 non-null  object\n",
      " 3   MonthYear         124491 non-null  object\n",
      " 4   Date of Birth     124491 non-null  object\n",
      " 5   Outcome Type      124471 non-null  object\n",
      " 6   Outcome Subtype   57308 non-null   object\n",
      " 7   Animal Type       124491 non-null  object\n",
      " 8   Sex upon Outcome  124490 non-null  object\n",
      " 9   Age upon Outcome  124486 non-null  object\n",
      " 10  Breed             124491 non-null  object\n",
      " 11  Color             124491 non-null  object\n",
      "dtypes: object(12)\n",
      "memory usage: 11.4+ MB\n"
     ]
    }
   ],
   "source": [
    "df_1.info()"
   ]
  },
  {
   "cell_type": "markdown",
   "metadata": {},
   "source": [
    "We also have to make sure there are no duplicates in the data set"
   ]
  },
  {
   "cell_type": "code",
   "execution_count": 142,
   "metadata": {},
   "outputs": [
    {
     "name": "stdout",
     "output_type": "stream",
     "text": [
      "<class 'pandas.core.frame.DataFrame'>\n",
      "Int64Index: 124101 entries, 0 to 124119\n",
      "Data columns (total 12 columns):\n",
      " #   Column            Non-Null Count   Dtype \n",
      "---  ------            --------------   ----- \n",
      " 0   Animal ID         124101 non-null  object\n",
      " 1   Name              85055 non-null   object\n",
      " 2   DateTime          124101 non-null  object\n",
      " 3   MonthYear         124101 non-null  object\n",
      " 4   Found Location    124101 non-null  object\n",
      " 5   Intake Type       124101 non-null  object\n",
      " 6   Intake Condition  124101 non-null  object\n",
      " 7   Animal Type       124101 non-null  object\n",
      " 8   Sex upon Intake   124100 non-null  object\n",
      " 9   Age upon Intake   124101 non-null  object\n",
      " 10  Breed             124101 non-null  object\n",
      " 11  Color             124101 non-null  object\n",
      "dtypes: object(12)\n",
      "memory usage: 12.3+ MB\n"
     ]
    }
   ],
   "source": [
    "df = df.drop_duplicates()\n",
    "df.info()"
   ]
  },
  {
   "cell_type": "code",
   "execution_count": 143,
   "metadata": {},
   "outputs": [
    {
     "name": "stdout",
     "output_type": "stream",
     "text": [
      "<class 'pandas.core.frame.DataFrame'>\n",
      "Int64Index: 124474 entries, 0 to 124490\n",
      "Data columns (total 12 columns):\n",
      " #   Column            Non-Null Count   Dtype \n",
      "---  ------            --------------   ----- \n",
      " 0   Animal ID         124474 non-null  object\n",
      " 1   Name              85454 non-null   object\n",
      " 2   DateTime          124474 non-null  object\n",
      " 3   MonthYear         124474 non-null  object\n",
      " 4   Date of Birth     124474 non-null  object\n",
      " 5   Outcome Type      124454 non-null  object\n",
      " 6   Outcome Subtype   57299 non-null   object\n",
      " 7   Animal Type       124474 non-null  object\n",
      " 8   Sex upon Outcome  124473 non-null  object\n",
      " 9   Age upon Outcome  124469 non-null  object\n",
      " 10  Breed             124474 non-null  object\n",
      " 11  Color             124474 non-null  object\n",
      "dtypes: object(12)\n",
      "memory usage: 12.3+ MB\n"
     ]
    }
   ],
   "source": [
    "df_1 = df_1.drop_duplicates()\n",
    "df_1.info()"
   ]
  },
  {
   "attachments": {},
   "cell_type": "markdown",
   "metadata": {},
   "source": [
    "                                                2.1 Merging the data"
   ]
  },
  {
   "attachments": {},
   "cell_type": "markdown",
   "metadata": {},
   "source": [
    "Now we can merge both dfs into one with left outer join. Because of that we have to see if the Animal ID is unique for each animal"
   ]
  },
  {
   "cell_type": "code",
   "execution_count": 144,
   "metadata": {},
   "outputs": [
    {
     "data": {
      "text/plain": [
       "111309"
      ]
     },
     "execution_count": 144,
     "metadata": {},
     "output_type": "execute_result"
    }
   ],
   "source": [
    "len(df_1['Animal ID'].unique())\n"
   ]
  },
  {
   "cell_type": "markdown",
   "metadata": {},
   "source": [
    "df_1 has 124474 rows and there are 111309 unique Animal IDs in this dataframe. Looks like it is not unique for each animal. We can drop the duplicates. "
   ]
  },
  {
   "cell_type": "code",
   "execution_count": 145,
   "metadata": {},
   "outputs": [
    {
     "name": "stdout",
     "output_type": "stream",
     "text": [
      "<class 'pandas.core.frame.DataFrame'>\n",
      "Int64Index: 110926 entries, 0 to 124119\n",
      "Data columns (total 12 columns):\n",
      " #   Column            Non-Null Count   Dtype \n",
      "---  ------            --------------   ----- \n",
      " 0   Animal ID         110926 non-null  object\n",
      " 1   Name              72275 non-null   object\n",
      " 2   DateTime          110926 non-null  object\n",
      " 3   MonthYear         110926 non-null  object\n",
      " 4   Found Location    110926 non-null  object\n",
      " 5   Intake Type       110926 non-null  object\n",
      " 6   Intake Condition  110926 non-null  object\n",
      " 7   Animal Type       110926 non-null  object\n",
      " 8   Sex upon Intake   110925 non-null  object\n",
      " 9   Age upon Intake   110926 non-null  object\n",
      " 10  Breed             110926 non-null  object\n",
      " 11  Color             110926 non-null  object\n",
      "dtypes: object(12)\n",
      "memory usage: 11.0+ MB\n"
     ]
    }
   ],
   "source": [
    "\n",
    "df = df.drop_duplicates(subset=['Animal ID'])\n",
    "df_1 = df_1.drop_duplicates(subset=['Animal ID'])\n",
    "df.info()"
   ]
  },
  {
   "attachments": {},
   "cell_type": "markdown",
   "metadata": {},
   "source": [
    "It's time to do the left join on Animal ID."
   ]
  },
  {
   "cell_type": "code",
   "execution_count": 146,
   "metadata": {},
   "outputs": [
    {
     "data": {
      "text/html": [
       "<div>\n",
       "<style scoped>\n",
       "    .dataframe tbody tr th:only-of-type {\n",
       "        vertical-align: middle;\n",
       "    }\n",
       "\n",
       "    .dataframe tbody tr th {\n",
       "        vertical-align: top;\n",
       "    }\n",
       "\n",
       "    .dataframe thead th {\n",
       "        text-align: right;\n",
       "    }\n",
       "</style>\n",
       "<table border=\"1\" class=\"dataframe\">\n",
       "  <thead>\n",
       "    <tr style=\"text-align: right;\">\n",
       "      <th></th>\n",
       "      <th>Animal ID</th>\n",
       "      <th>Name_x</th>\n",
       "      <th>DateTime_x</th>\n",
       "      <th>MonthYear_x</th>\n",
       "      <th>Found Location</th>\n",
       "      <th>Intake Type</th>\n",
       "      <th>Intake Condition</th>\n",
       "      <th>Animal Type_x</th>\n",
       "      <th>Sex upon Intake</th>\n",
       "      <th>Age upon Intake</th>\n",
       "      <th>...</th>\n",
       "      <th>DateTime_y</th>\n",
       "      <th>MonthYear_y</th>\n",
       "      <th>Date of Birth</th>\n",
       "      <th>Outcome Type</th>\n",
       "      <th>Outcome Subtype</th>\n",
       "      <th>Animal Type_y</th>\n",
       "      <th>Sex upon Outcome</th>\n",
       "      <th>Age upon Outcome</th>\n",
       "      <th>Breed_y</th>\n",
       "      <th>Color_y</th>\n",
       "    </tr>\n",
       "  </thead>\n",
       "  <tbody>\n",
       "    <tr>\n",
       "      <th>0</th>\n",
       "      <td>A786884</td>\n",
       "      <td>*Brock</td>\n",
       "      <td>01/03/2019 04:19:00 PM</td>\n",
       "      <td>01/03/2019 04:19:00 PM</td>\n",
       "      <td>2501 Magin Meadow Dr in Austin (TX)</td>\n",
       "      <td>Stray</td>\n",
       "      <td>Normal</td>\n",
       "      <td>Dog</td>\n",
       "      <td>Neutered Male</td>\n",
       "      <td>2 years</td>\n",
       "      <td>...</td>\n",
       "      <td>01/08/2019 03:11:00 PM</td>\n",
       "      <td>01/08/2019 03:11:00 PM</td>\n",
       "      <td>01/03/2017</td>\n",
       "      <td>Transfer</td>\n",
       "      <td>Partner</td>\n",
       "      <td>Dog</td>\n",
       "      <td>Neutered Male</td>\n",
       "      <td>2 years</td>\n",
       "      <td>Beagle Mix</td>\n",
       "      <td>Tricolor</td>\n",
       "    </tr>\n",
       "    <tr>\n",
       "      <th>1</th>\n",
       "      <td>A706918</td>\n",
       "      <td>Belle</td>\n",
       "      <td>07/05/2015 12:59:00 PM</td>\n",
       "      <td>07/05/2015 12:59:00 PM</td>\n",
       "      <td>9409 Bluegrass Dr in Austin (TX)</td>\n",
       "      <td>Stray</td>\n",
       "      <td>Normal</td>\n",
       "      <td>Dog</td>\n",
       "      <td>Spayed Female</td>\n",
       "      <td>8 years</td>\n",
       "      <td>...</td>\n",
       "      <td>07/05/2015 03:13:00 PM</td>\n",
       "      <td>07/05/2015 03:13:00 PM</td>\n",
       "      <td>07/05/2007</td>\n",
       "      <td>Return to Owner</td>\n",
       "      <td>NaN</td>\n",
       "      <td>Dog</td>\n",
       "      <td>Spayed Female</td>\n",
       "      <td>8 years</td>\n",
       "      <td>English Springer Spaniel</td>\n",
       "      <td>White/Liver</td>\n",
       "    </tr>\n",
       "    <tr>\n",
       "      <th>2</th>\n",
       "      <td>A724273</td>\n",
       "      <td>Runster</td>\n",
       "      <td>04/14/2016 06:43:00 PM</td>\n",
       "      <td>04/14/2016 06:43:00 PM</td>\n",
       "      <td>2818 Palomino Trail in Austin (TX)</td>\n",
       "      <td>Stray</td>\n",
       "      <td>Normal</td>\n",
       "      <td>Dog</td>\n",
       "      <td>Intact Male</td>\n",
       "      <td>11 months</td>\n",
       "      <td>...</td>\n",
       "      <td>04/21/2016 05:17:00 PM</td>\n",
       "      <td>04/21/2016 05:17:00 PM</td>\n",
       "      <td>04/17/2015</td>\n",
       "      <td>Return to Owner</td>\n",
       "      <td>NaN</td>\n",
       "      <td>Dog</td>\n",
       "      <td>Neutered Male</td>\n",
       "      <td>1 year</td>\n",
       "      <td>Basenji Mix</td>\n",
       "      <td>Sable/White</td>\n",
       "    </tr>\n",
       "    <tr>\n",
       "      <th>3</th>\n",
       "      <td>A665644</td>\n",
       "      <td>NaN</td>\n",
       "      <td>10/21/2013 07:59:00 AM</td>\n",
       "      <td>10/21/2013 07:59:00 AM</td>\n",
       "      <td>Austin (TX)</td>\n",
       "      <td>Stray</td>\n",
       "      <td>Sick</td>\n",
       "      <td>Cat</td>\n",
       "      <td>Intact Female</td>\n",
       "      <td>4 weeks</td>\n",
       "      <td>...</td>\n",
       "      <td>10/21/2013 11:39:00 AM</td>\n",
       "      <td>10/21/2013 11:39:00 AM</td>\n",
       "      <td>09/21/2013</td>\n",
       "      <td>Transfer</td>\n",
       "      <td>Partner</td>\n",
       "      <td>Cat</td>\n",
       "      <td>Intact Female</td>\n",
       "      <td>4 weeks</td>\n",
       "      <td>Domestic Shorthair Mix</td>\n",
       "      <td>Calico</td>\n",
       "    </tr>\n",
       "    <tr>\n",
       "      <th>4</th>\n",
       "      <td>A682524</td>\n",
       "      <td>Rio</td>\n",
       "      <td>06/29/2014 10:38:00 AM</td>\n",
       "      <td>06/29/2014 10:38:00 AM</td>\n",
       "      <td>800 Grove Blvd in Austin (TX)</td>\n",
       "      <td>Stray</td>\n",
       "      <td>Normal</td>\n",
       "      <td>Dog</td>\n",
       "      <td>Neutered Male</td>\n",
       "      <td>4 years</td>\n",
       "      <td>...</td>\n",
       "      <td>07/02/2014 02:16:00 PM</td>\n",
       "      <td>07/02/2014 02:16:00 PM</td>\n",
       "      <td>06/29/2010</td>\n",
       "      <td>Return to Owner</td>\n",
       "      <td>NaN</td>\n",
       "      <td>Dog</td>\n",
       "      <td>Neutered Male</td>\n",
       "      <td>4 years</td>\n",
       "      <td>Doberman Pinsch/Australian Cattle Dog</td>\n",
       "      <td>Tan/Gray</td>\n",
       "    </tr>\n",
       "  </tbody>\n",
       "</table>\n",
       "<p>5 rows × 23 columns</p>\n",
       "</div>"
      ],
      "text/plain": [
       "  Animal ID   Name_x              DateTime_x             MonthYear_x  \\\n",
       "0   A786884   *Brock  01/03/2019 04:19:00 PM  01/03/2019 04:19:00 PM   \n",
       "1   A706918    Belle  07/05/2015 12:59:00 PM  07/05/2015 12:59:00 PM   \n",
       "2   A724273  Runster  04/14/2016 06:43:00 PM  04/14/2016 06:43:00 PM   \n",
       "3   A665644      NaN  10/21/2013 07:59:00 AM  10/21/2013 07:59:00 AM   \n",
       "4   A682524      Rio  06/29/2014 10:38:00 AM  06/29/2014 10:38:00 AM   \n",
       "\n",
       "                        Found Location Intake Type Intake Condition  \\\n",
       "0  2501 Magin Meadow Dr in Austin (TX)       Stray           Normal   \n",
       "1     9409 Bluegrass Dr in Austin (TX)       Stray           Normal   \n",
       "2   2818 Palomino Trail in Austin (TX)       Stray           Normal   \n",
       "3                          Austin (TX)       Stray             Sick   \n",
       "4        800 Grove Blvd in Austin (TX)       Stray           Normal   \n",
       "\n",
       "  Animal Type_x Sex upon Intake Age upon Intake  ...              DateTime_y  \\\n",
       "0           Dog   Neutered Male         2 years  ...  01/08/2019 03:11:00 PM   \n",
       "1           Dog   Spayed Female         8 years  ...  07/05/2015 03:13:00 PM   \n",
       "2           Dog     Intact Male       11 months  ...  04/21/2016 05:17:00 PM   \n",
       "3           Cat   Intact Female         4 weeks  ...  10/21/2013 11:39:00 AM   \n",
       "4           Dog   Neutered Male         4 years  ...  07/02/2014 02:16:00 PM   \n",
       "\n",
       "              MonthYear_y Date of Birth     Outcome Type Outcome Subtype  \\\n",
       "0  01/08/2019 03:11:00 PM    01/03/2017         Transfer         Partner   \n",
       "1  07/05/2015 03:13:00 PM    07/05/2007  Return to Owner             NaN   \n",
       "2  04/21/2016 05:17:00 PM    04/17/2015  Return to Owner             NaN   \n",
       "3  10/21/2013 11:39:00 AM    09/21/2013         Transfer         Partner   \n",
       "4  07/02/2014 02:16:00 PM    06/29/2010  Return to Owner             NaN   \n",
       "\n",
       "  Animal Type_y Sex upon Outcome Age upon Outcome  \\\n",
       "0           Dog    Neutered Male          2 years   \n",
       "1           Dog    Spayed Female          8 years   \n",
       "2           Dog    Neutered Male           1 year   \n",
       "3           Cat    Intact Female          4 weeks   \n",
       "4           Dog    Neutered Male          4 years   \n",
       "\n",
       "                                 Breed_y      Color_y  \n",
       "0                             Beagle Mix     Tricolor  \n",
       "1               English Springer Spaniel  White/Liver  \n",
       "2                            Basenji Mix  Sable/White  \n",
       "3                 Domestic Shorthair Mix       Calico  \n",
       "4  Doberman Pinsch/Australian Cattle Dog     Tan/Gray  \n",
       "\n",
       "[5 rows x 23 columns]"
      ]
     },
     "execution_count": 146,
     "metadata": {},
     "output_type": "execute_result"
    }
   ],
   "source": [
    "result = pd.merge(df,df_1, how=\"left\", on=[\"Animal ID\"])\n",
    "result.head(\n",
    ")\n"
   ]
  },
  {
   "attachments": {},
   "cell_type": "markdown",
   "metadata": {},
   "source": [
    "Looking below we can see that we've ended up with 110926 data entries with 23 columns. Now it's time to drop features with no value to our study"
   ]
  },
  {
   "cell_type": "code",
   "execution_count": 147,
   "metadata": {},
   "outputs": [
    {
     "data": {
      "text/plain": [
       "(110926, 23)"
      ]
     },
     "execution_count": 147,
     "metadata": {},
     "output_type": "execute_result"
    }
   ],
   "source": [
    "result.shape"
   ]
  },
  {
   "attachments": {},
   "cell_type": "markdown",
   "metadata": {},
   "source": [
    "                                                2.2 Giving Format"
   ]
  },
  {
   "attachments": {},
   "cell_type": "markdown",
   "metadata": {},
   "source": [
    "From the given columns only those that are related to the goal of this project will be selected to continue working on them. We narrowed down our data set from 23 coulmns to 12"
   ]
  },
  {
   "cell_type": "code",
   "execution_count": 148,
   "metadata": {},
   "outputs": [
    {
     "name": "stdout",
     "output_type": "stream",
     "text": [
      "<class 'pandas.core.frame.DataFrame'>\n",
      "Int64Index: 110926 entries, 0 to 110925\n",
      "Data columns (total 12 columns):\n",
      " #   Column            Non-Null Count   Dtype \n",
      "---  ------            --------------   ----- \n",
      " 0   DateTime_x        110926 non-null  object\n",
      " 1   Intake Type       110926 non-null  object\n",
      " 2   Intake Condition  110926 non-null  object\n",
      " 3   Animal Type_x     110926 non-null  object\n",
      " 4   Sex upon Intake   110925 non-null  object\n",
      " 5   Age upon Intake   110926 non-null  object\n",
      " 6   Breed_x           110926 non-null  object\n",
      " 7   Color_x           110926 non-null  object\n",
      " 8   DateTime_y        110495 non-null  object\n",
      " 9   Date of Birth     110495 non-null  object\n",
      " 10  Outcome Type      110479 non-null  object\n",
      " 11  Age upon Outcome  110490 non-null  object\n",
      "dtypes: object(12)\n",
      "memory usage: 11.0+ MB\n"
     ]
    }
   ],
   "source": [
    "result = result.drop(['Animal Type_y','Found Location','Animal ID','Name_x',\n",
    "'Name_y','Color_y','Breed_y','Outcome Subtype','Sex upon Outcome','MonthYear_y','MonthYear_x'],axis=1)\n",
    "result.info()\n",
    "\n",
    "\n"
   ]
  },
  {
   "attachments": {},
   "cell_type": "markdown",
   "metadata": {},
   "source": [
    "Now, in order to utilise the column names as properties and benefit from them, certain special characters, such as the underscore _ must be removed. In addition, some column names include spaces between words and unessecary letters; these will be eliminated as well."
   ]
  },
  {
   "cell_type": "code",
   "execution_count": 149,
   "metadata": {},
   "outputs": [],
   "source": [
    "new_columns = list(result.columns.values)"
   ]
  },
  {
   "cell_type": "code",
   "execution_count": 150,
   "metadata": {},
   "outputs": [
    {
     "data": {
      "text/plain": [
       "['datetime',\n",
       " 'intake_type',\n",
       " 'intake_condition',\n",
       " 'animal_type',\n",
       " 'sex_upon_intake',\n",
       " 'age_upon_intake',\n",
       " 'breed',\n",
       " 'color',\n",
       " 'datetime',\n",
       " 'date_of_birth',\n",
       " 'outcome_type',\n",
       " 'age_upon_outcome']"
      ]
     },
     "execution_count": 150,
     "metadata": {},
     "output_type": "execute_result"
    }
   ],
   "source": [
    "for x in range(len(new_columns)):\n",
    "    \n",
    "    new_columns[x] = new_columns[x].lower()\n",
    "    \n",
    "    new_columns[x] = new_columns[x].replace(\" \", \"_\")\n",
    "    new_columns[x] = new_columns[x].strip('_y')\n",
    "    new_columns[x] = new_columns[x].strip('_x')\n",
    "    \n",
    "new_columns"
   ]
  },
  {
   "cell_type": "code",
   "execution_count": 151,
   "metadata": {},
   "outputs": [
    {
     "data": {
      "text/plain": [
       "Index(['datetime', 'intake_type', 'intake_condition', 'animal_type',\n",
       "       'sex_upon_intake', 'age_upon_intake', 'breed', 'color', 'datetime',\n",
       "       'date_of_birth', 'outcome_type', 'age_upon_outcome'],\n",
       "      dtype='object')"
      ]
     },
     "execution_count": 151,
     "metadata": {},
     "output_type": "execute_result"
    }
   ],
   "source": [
    "result.columns=new_columns\n",
    "result.columns"
   ]
  },
  {
   "attachments": {},
   "cell_type": "markdown",
   "metadata": {},
   "source": [
    "Turns out that there exist two datetime columns with different information. Let's rename the second one by copying the above list and simply changing the name."
   ]
  },
  {
   "cell_type": "code",
   "execution_count": 152,
   "metadata": {},
   "outputs": [],
   "source": [
    "result.columns = ['datetime',\n",
    " 'income_type',\n",
    " 'outcome_condition',\n",
    " 'animal_type',\n",
    " 'sex_upon_outcome',\n",
    " 'age_upon_intake',\n",
    " 'breed',\n",
    " 'color',\n",
    " 'datetime_outcome',\n",
    " 'date_of_birth',\n",
    " 'outcome_type',\n",
    " 'age_upon_outcome']"
   ]
  },
  {
   "attachments": {},
   "cell_type": "markdown",
   "metadata": {},
   "source": [
    "                                2.3 Working with missing, incorrect, and invalid data"
   ]
  },
  {
   "attachments": {},
   "cell_type": "markdown",
   "metadata": {},
   "source": [
    "-- Missing values (NaN values)"
   ]
  },
  {
   "attachments": {},
   "cell_type": "markdown",
   "metadata": {},
   "source": [
    "First, let's change Unknown values with np.nan."
   ]
  },
  {
   "cell_type": "code",
   "execution_count": 153,
   "metadata": {},
   "outputs": [],
   "source": [
    "\n",
    "result_2 = result.replace(\"Unknown\",np.nan)"
   ]
  },
  {
   "attachments": {},
   "cell_type": "markdown",
   "metadata": {},
   "source": [
    "Second, let's replace missing entries with NaN values. \n",
    "This way, if a pandas function is used, none of those NaN values will be taken under consideration."
   ]
  },
  {
   "cell_type": "code",
   "execution_count": 154,
   "metadata": {},
   "outputs": [],
   "source": [
    "result_2.fillna(np.nan,inplace=True)"
   ]
  },
  {
   "attachments": {},
   "cell_type": "markdown",
   "metadata": {},
   "source": [
    "We can now check the unique values in each feature."
   ]
  },
  {
   "attachments": {},
   "cell_type": "markdown",
   "metadata": {},
   "source": [
    "As we can see below some of our features such as breed and color have many unique values. In most cases we'll only be considering top 10 most frequent "
   ]
  },
  {
   "cell_type": "code",
   "execution_count": 155,
   "metadata": {},
   "outputs": [
    {
     "data": {
      "text/html": [
       "<div>\n",
       "<style scoped>\n",
       "    .dataframe tbody tr th:only-of-type {\n",
       "        vertical-align: middle;\n",
       "    }\n",
       "\n",
       "    .dataframe tbody tr th {\n",
       "        vertical-align: top;\n",
       "    }\n",
       "\n",
       "    .dataframe thead th {\n",
       "        text-align: right;\n",
       "    }\n",
       "</style>\n",
       "<table border=\"1\" class=\"dataframe\">\n",
       "  <thead>\n",
       "    <tr style=\"text-align: right;\">\n",
       "      <th></th>\n",
       "      <th>datetime</th>\n",
       "      <th>income_type</th>\n",
       "      <th>outcome_condition</th>\n",
       "      <th>animal_type</th>\n",
       "      <th>sex_upon_outcome</th>\n",
       "      <th>age_upon_intake</th>\n",
       "      <th>breed</th>\n",
       "      <th>color</th>\n",
       "      <th>datetime_outcome</th>\n",
       "      <th>date_of_birth</th>\n",
       "      <th>outcome_type</th>\n",
       "      <th>age_upon_outcome</th>\n",
       "    </tr>\n",
       "  </thead>\n",
       "  <tbody>\n",
       "    <tr>\n",
       "      <th>count</th>\n",
       "      <td>110926</td>\n",
       "      <td>110926</td>\n",
       "      <td>110926</td>\n",
       "      <td>110926</td>\n",
       "      <td>100706</td>\n",
       "      <td>110926</td>\n",
       "      <td>110924</td>\n",
       "      <td>110926</td>\n",
       "      <td>110495</td>\n",
       "      <td>110495</td>\n",
       "      <td>110479</td>\n",
       "      <td>110490</td>\n",
       "    </tr>\n",
       "    <tr>\n",
       "      <th>unique</th>\n",
       "      <td>77612</td>\n",
       "      <td>6</td>\n",
       "      <td>10</td>\n",
       "      <td>5</td>\n",
       "      <td>4</td>\n",
       "      <td>51</td>\n",
       "      <td>2628</td>\n",
       "      <td>595</td>\n",
       "      <td>91184</td>\n",
       "      <td>7085</td>\n",
       "      <td>9</td>\n",
       "      <td>50</td>\n",
       "    </tr>\n",
       "    <tr>\n",
       "      <th>top</th>\n",
       "      <td>07/09/2014 12:58:00 PM</td>\n",
       "      <td>Stray</td>\n",
       "      <td>Normal</td>\n",
       "      <td>Dog</td>\n",
       "      <td>Intact Male</td>\n",
       "      <td>1 year</td>\n",
       "      <td>Domestic Shorthair Mix</td>\n",
       "      <td>Black/White</td>\n",
       "      <td>04/18/2016 12:00:00 AM</td>\n",
       "      <td>09/01/2015</td>\n",
       "      <td>Adoption</td>\n",
       "      <td>1 year</td>\n",
       "    </tr>\n",
       "    <tr>\n",
       "      <th>freq</th>\n",
       "      <td>63</td>\n",
       "      <td>79216</td>\n",
       "      <td>95372</td>\n",
       "      <td>59404</td>\n",
       "      <td>37614</td>\n",
       "      <td>19005</td>\n",
       "      <td>29506</td>\n",
       "      <td>11438</td>\n",
       "      <td>31</td>\n",
       "      <td>107</td>\n",
       "      <td>47894</td>\n",
       "      <td>19178</td>\n",
       "    </tr>\n",
       "  </tbody>\n",
       "</table>\n",
       "</div>"
      ],
      "text/plain": [
       "                      datetime income_type outcome_condition animal_type  \\\n",
       "count                   110926      110926            110926      110926   \n",
       "unique                   77612           6                10           5   \n",
       "top     07/09/2014 12:58:00 PM       Stray            Normal         Dog   \n",
       "freq                        63       79216             95372       59404   \n",
       "\n",
       "       sex_upon_outcome age_upon_intake                   breed        color  \\\n",
       "count            100706          110926                  110924       110926   \n",
       "unique                4              51                    2628          595   \n",
       "top         Intact Male          1 year  Domestic Shorthair Mix  Black/White   \n",
       "freq              37614           19005                   29506        11438   \n",
       "\n",
       "              datetime_outcome date_of_birth outcome_type age_upon_outcome  \n",
       "count                   110495        110495       110479           110490  \n",
       "unique                   91184          7085            9               50  \n",
       "top     04/18/2016 12:00:00 AM    09/01/2015     Adoption           1 year  \n",
       "freq                        31           107        47894            19178  "
      ]
     },
     "execution_count": 155,
     "metadata": {},
     "output_type": "execute_result"
    }
   ],
   "source": [
    "result_2.describe()"
   ]
  },
  {
   "attachments": {},
   "cell_type": "markdown",
   "metadata": {},
   "source": [
    "\n",
    "\n",
    "Let's look at the NaN values across the full data frame. We should see a list of columns ordered by the number of NaN values they contain."
   ]
  },
  {
   "cell_type": "code",
   "execution_count": 156,
   "metadata": {},
   "outputs": [
    {
     "data": {
      "text/plain": [
       "sex_upon_outcome     10220\n",
       "outcome_type           447\n",
       "age_upon_outcome       436\n",
       "datetime_outcome       431\n",
       "date_of_birth          431\n",
       "breed                    2\n",
       "datetime                 0\n",
       "income_type              0\n",
       "outcome_condition        0\n",
       "animal_type              0\n",
       "age_upon_intake          0\n",
       "color                    0\n",
       "dtype: int64"
      ]
     },
     "execution_count": 156,
     "metadata": {},
     "output_type": "execute_result"
    }
   ],
   "source": [
    "result_2.isna().sum().sort_values(ascending=False)"
   ]
  },
  {
   "cell_type": "markdown",
   "metadata": {},
   "source": [
    "As we can see below. None of these sums go beyond 20%. Therefore, we have no basis to drop these columns"
   ]
  },
  {
   "cell_type": "code",
   "execution_count": 157,
   "metadata": {},
   "outputs": [],
   "source": [
    "perc_nan=result_2.isna().sum()/len(result_2)*100"
   ]
  },
  {
   "cell_type": "code",
   "execution_count": 158,
   "metadata": {},
   "outputs": [
    {
     "data": {
      "text/plain": [
       "Text(0, 0.5, '% of NaN elements')"
      ]
     },
     "execution_count": 158,
     "metadata": {},
     "output_type": "execute_result"
    },
    {
     "data": {
      "image/png": "[encoded data removed]",
      "text/plain": [
       "<Figure size 864x360 with 1 Axes>"
      ]
     },
     "metadata": {
      "needs_background": "light"
     },
     "output_type": "display_data"
    }
   ],
   "source": [
    "sns.set_palette(\"RdBu\", 12)\n",
    "plt.figure(figsize=(12,8))\n",
    "ax=perc_nan[perc_nan>=0].sort_values(ascending=False).plot.bar(title='Percentage of NaN values',figsize=(12,5));\n",
    "ax.set_ylabel('% of NaN elements')"
   ]
  },
  {
   "attachments": {},
   "cell_type": "markdown",
   "metadata": {},
   "source": [
    "--Incorect Data Types\n",
    "\n",
    "We can now pass onto manipulating data types. First, let's check what we're dealing with."
   ]
  },
  {
   "cell_type": "code",
   "execution_count": 159,
   "metadata": {},
   "outputs": [
    {
     "data": {
      "text/plain": [
       "datetime             object\n",
       "income_type          object\n",
       "outcome_condition    object\n",
       "animal_type          object\n",
       "sex_upon_outcome     object\n",
       "age_upon_intake      object\n",
       "breed                object\n",
       "color                object\n",
       "datetime_outcome     object\n",
       "date_of_birth        object\n",
       "outcome_type         object\n",
       "age_upon_outcome     object\n",
       "dtype: object"
      ]
     },
     "execution_count": 159,
     "metadata": {},
     "output_type": "execute_result"
    }
   ],
   "source": [
    "result_2.dtypes"
   ]
  },
  {
   "cell_type": "markdown",
   "metadata": {},
   "source": [
    "All the date time columns need to be changed and formatted"
   ]
  },
  {
   "cell_type": "code",
   "execution_count": 160,
   "metadata": {},
   "outputs": [],
   "source": [
    "result_2['datetime'] = pd.to_datetime(result_2['datetime'])\n",
    "result_2['datetime_outcome'] = pd.to_datetime(result_2['datetime_outcome'])\n",
    "result_2['date_of_birth'] = pd.to_datetime(result_2['date_of_birth'])\n"
   ]
  },
  {
   "attachments": {},
   "cell_type": "markdown",
   "metadata": {},
   "source": [
    "Now we can also change the age column into integer type. Anything below a year will be considered as 0"
   ]
  },
  {
   "cell_type": "code",
   "execution_count": 161,
   "metadata": {},
   "outputs": [],
   "source": [
    "\n",
    "result_2['age_upon_outcome'] = result_2['age_upon_outcome'].map(lambda x: x.rstrip(' years'),na_action='ignore')\n",
    "result_2['age_upon_outcome'] = result_2['age_upon_outcome'].map(lambda x: x.rstrip(' year'),na_action='ignore')\n",
    "\n",
    "result_2['age_upon_intake'] = result_2['age_upon_intake'].map(lambda x: x.rstrip(' years'),na_action='ignore')\n",
    "result_2['age_upon_intake'] = result_2['age_upon_intake'].map(lambda x: x.rstrip(' year'),na_action='ignore')\n",
    "\n",
    "   \n",
    "      \n"
   ]
  },
  {
   "attachments": {},
   "cell_type": "markdown",
   "metadata": {},
   "source": [
    "As we can see below, for every column that has months, days, weeks, week, day, month or d in it we will map it as 0 since it's a value below 1 year."
   ]
  },
  {
   "cell_type": "code",
   "execution_count": 162,
   "metadata": {},
   "outputs": [],
   "source": [
    "result_2['age_upon_outcome'] = np.where(result_2['age_upon_outcome'].str.contains('months'), 0, result_2['age_upon_outcome'])\n",
    "result_2['age_upon_outcome'] = np.where(result_2['age_upon_outcome'].str.contains('days'), 0, result_2['age_upon_outcome'])\n",
    "result_2['age_upon_outcome'] = np.where(result_2['age_upon_outcome'].str.contains('weeks'), 0, result_2['age_upon_outcome'])\n",
    "result_2['age_upon_outcome'] = np.where(result_2['age_upon_outcome'].str.contains('week'), 0, result_2['age_upon_outcome'])\n",
    "result_2['age_upon_outcome'] = np.where(result_2['age_upon_outcome'].str.contains('day'), 0, result_2['age_upon_outcome'])\n",
    "result_2['age_upon_outcome'] = np.where(result_2['age_upon_outcome'].str.contains('month'), 0, result_2['age_upon_outcome'])\n",
    "result_2['age_upon_outcome'] = np.where(result_2['age_upon_outcome'].str.contains('d'), 0, result_2['age_upon_outcome'])\n",
    "\n"
   ]
  },
  {
   "cell_type": "code",
   "execution_count": 163,
   "metadata": {},
   "outputs": [],
   "source": [
    "result_2['age_upon_intake'] = np.where(result_2['age_upon_intake'].str.contains('months'), 0, result_2['age_upon_intake'])\n",
    "result_2['age_upon_intake'] = np.where(result_2['age_upon_intake'].str.contains('days'), 0, result_2['age_upon_intake'])\n",
    "result_2['age_upon_intake'] = np.where(result_2['age_upon_intake'].str.contains('weeks'), 0, result_2['age_upon_intake'])\n",
    "result_2['age_upon_intake'] = np.where(result_2['age_upon_intake'].str.contains('month'), 0, result_2['age_upon_intake'])\n",
    "result_2['age_upon_intake'] = np.where(result_2['age_upon_intake'].str.contains('day'), 0, result_2['age_upon_intake'])\n",
    "result_2['age_upon_intake'] = np.where(result_2['age_upon_intake'].str.contains('week'), 0, result_2['age_upon_intake'])\n",
    "result_2['age_upon_intake'] = np.where(result_2['age_upon_intake'].str.contains('d'), 0, result_2['age_upon_intake'])"
   ]
  },
  {
   "attachments": {},
   "cell_type": "markdown",
   "metadata": {},
   "source": [
    "Finally we can change the data type of age columns to on integers."
   ]
  },
  {
   "cell_type": "code",
   "execution_count": 164,
   "metadata": {},
   "outputs": [],
   "source": [
    "result_2['age_upon_intake'] = result_2['age_upon_intake'].astype('int')\n",
    "result_2['age_upon_outcome'] = result_2['age_upon_outcome'].astype('int')"
   ]
  },
  {
   "attachments": {},
   "cell_type": "markdown",
   "metadata": {},
   "source": [
    "Let's also map our dependent variable outcome_type column into 1:Adopted and 0:Not Adopted. This will help us later in analysing the data. Let's remember that there were certain animal IDs in intakes dataset that were not there in the outcomes data set. After merging these data sets animals who have not yet been adopted and haven't left the shelter yet are represented in the outcome_type as a nan value. In this situation, we cannot forget to count  them in as not adopted."
   ]
  },
  {
   "cell_type": "code",
   "execution_count": 165,
   "metadata": {},
   "outputs": [
    {
     "data": {
      "text/plain": [
       "array(['Transfer', 'Return to Owner', 'Adoption', 'Euthanasia',\n",
       "       'Disposal', 'Died', 'Rto-Adopt', 'Missing', nan, 'Relocate'],\n",
       "      dtype=object)"
      ]
     },
     "execution_count": 165,
     "metadata": {},
     "output_type": "execute_result"
    }
   ],
   "source": [
    "result_2['outcome_type'].unique()"
   ]
  },
  {
   "cell_type": "code",
   "execution_count": 166,
   "metadata": {},
   "outputs": [
    {
     "data": {
      "text/plain": [
       "array(['Transfer', 'Return to Owner', 'Adoption', 'Euthanasia',\n",
       "       'Disposal', 'Died', 'Rto-Adopt', 'Missing', 0, 'Relocate'],\n",
       "      dtype=object)"
      ]
     },
     "execution_count": 166,
     "metadata": {},
     "output_type": "execute_result"
    }
   ],
   "source": [
    "result_2['outcome_type'] = result_2['outcome_type'].fillna(0)\n",
    "result_2['outcome_type'].unique()"
   ]
  },
  {
   "cell_type": "code",
   "execution_count": 167,
   "metadata": {},
   "outputs": [
    {
     "data": {
      "text/plain": [
       "array([0, 1], dtype=int64)"
      ]
     },
     "execution_count": 167,
     "metadata": {},
     "output_type": "execute_result"
    }
   ],
   "source": [
    "result_2['outcome_type'] = result_2['outcome_type'].map({'Transfer':0, 'Return to Owner':1, 'Adoption':1, 'Euthanasia':0,\n",
    "       'Disposal':0, 'Died':0, 'Rto-Adopt':1, 'Missing':0, 'Relocate':0, 0: 0})\n",
    "       \n",
    "result_2['outcome_type'].unique()"
   ]
  },
  {
   "attachments": {},
   "cell_type": "markdown",
   "metadata": {},
   "source": [
    "--Invalid Data \n",
    "\n",
    "As we can see below, age has a minimum value of -2 which is impossible. It must be a data entry mistake made by the shelter's employee"
   ]
  },
  {
   "attachments": {},
   "cell_type": "markdown",
   "metadata": {},
   "source": [
    "We can also see that 75% values are under the age of 2 for both columns. The maximum age is 25 and seem very rare, like an outlier. Outliers can be problematic because they can affect the results of an analysis.\n",
    "\n",
    "However, they can also be informative about the data we're studying because they can reveal abnormal cases or individuals that have rare traits, in our case these are exceptionally old animals. Therefore, we will keep them in the data set."
   ]
  },
  {
   "cell_type": "code",
   "execution_count": 168,
   "metadata": {},
   "outputs": [
    {
     "data": {
      "text/html": [
       "<div>\n",
       "<style scoped>\n",
       "    .dataframe tbody tr th:only-of-type {\n",
       "        vertical-align: middle;\n",
       "    }\n",
       "\n",
       "    .dataframe tbody tr th {\n",
       "        vertical-align: top;\n",
       "    }\n",
       "\n",
       "    .dataframe thead th {\n",
       "        text-align: right;\n",
       "    }\n",
       "</style>\n",
       "<table border=\"1\" class=\"dataframe\">\n",
       "  <thead>\n",
       "    <tr style=\"text-align: right;\">\n",
       "      <th></th>\n",
       "      <th>age_upon_intake</th>\n",
       "      <th>outcome_type</th>\n",
       "      <th>age_upon_outcome</th>\n",
       "    </tr>\n",
       "  </thead>\n",
       "  <tbody>\n",
       "    <tr>\n",
       "      <th>count</th>\n",
       "      <td>110926.000000</td>\n",
       "      <td>110926.000000</td>\n",
       "      <td>110926.000000</td>\n",
       "    </tr>\n",
       "    <tr>\n",
       "      <th>mean</th>\n",
       "      <td>1.887592</td>\n",
       "      <td>0.590889</td>\n",
       "      <td>1.898338</td>\n",
       "    </tr>\n",
       "    <tr>\n",
       "      <th>std</th>\n",
       "      <td>2.936601</td>\n",
       "      <td>0.491672</td>\n",
       "      <td>2.951109</td>\n",
       "    </tr>\n",
       "    <tr>\n",
       "      <th>min</th>\n",
       "      <td>-2.000000</td>\n",
       "      <td>0.000000</td>\n",
       "      <td>-2.000000</td>\n",
       "    </tr>\n",
       "    <tr>\n",
       "      <th>25%</th>\n",
       "      <td>0.000000</td>\n",
       "      <td>0.000000</td>\n",
       "      <td>0.000000</td>\n",
       "    </tr>\n",
       "    <tr>\n",
       "      <th>50%</th>\n",
       "      <td>1.000000</td>\n",
       "      <td>1.000000</td>\n",
       "      <td>1.000000</td>\n",
       "    </tr>\n",
       "    <tr>\n",
       "      <th>75%</th>\n",
       "      <td>2.000000</td>\n",
       "      <td>1.000000</td>\n",
       "      <td>2.000000</td>\n",
       "    </tr>\n",
       "    <tr>\n",
       "      <th>max</th>\n",
       "      <td>25.000000</td>\n",
       "      <td>1.000000</td>\n",
       "      <td>25.000000</td>\n",
       "    </tr>\n",
       "  </tbody>\n",
       "</table>\n",
       "</div>"
      ],
      "text/plain": [
       "       age_upon_intake   outcome_type  age_upon_outcome\n",
       "count    110926.000000  110926.000000     110926.000000\n",
       "mean          1.887592       0.590889          1.898338\n",
       "std           2.936601       0.491672          2.951109\n",
       "min          -2.000000       0.000000         -2.000000\n",
       "25%           0.000000       0.000000          0.000000\n",
       "50%           1.000000       1.000000          1.000000\n",
       "75%           2.000000       1.000000          2.000000\n",
       "max          25.000000       1.000000         25.000000"
      ]
     },
     "execution_count": 168,
     "metadata": {},
     "output_type": "execute_result"
    }
   ],
   "source": [
    "result_2.describe()"
   ]
  },
  {
   "attachments": {},
   "cell_type": "markdown",
   "metadata": {},
   "source": [
    "We will make an assumption that the employee added a minus by mistake and we will change -2 to a positive value."
   ]
  },
  {
   "cell_type": "code",
   "execution_count": 169,
   "metadata": {},
   "outputs": [],
   "source": [
    "\n",
    "result_2['age_upon_intake'] = np.where(result_2['age_upon_intake']<=0, result_2['age_upon_intake']*-1, result_2['age_upon_intake'])\n",
    "result_2['age_upon_outcome'] = np.where(result_2['age_upon_outcome']<=0, result_2['age_upon_outcome']*-1, result_2['age_upon_outcome'])"
   ]
  },
  {
   "cell_type": "markdown",
   "metadata": {},
   "source": [
    "Now we can se there are no minimum negative values"
   ]
  },
  {
   "cell_type": "markdown",
   "metadata": {},
   "source": [
    "Let's save our data to csv file"
   ]
  },
  {
   "cell_type": "code",
   "execution_count": 170,
   "metadata": {},
   "outputs": [],
   "source": [
    "result_2.to_csv('shelter_cleaned.csv',index=False)"
   ]
  },
  {
   "cell_type": "code",
   "execution_count": 3,
   "metadata": {},
   "outputs": [],
   "source": [
    "result_2 = pd.read_csv('shelter_cleaned.csv')"
   ]
  },
  {
   "attachments": {},
   "cell_type": "markdown",
   "metadata": {},
   "source": [
    "                            3. Exploratory Data Analysis (EDA) and Visualization."
   ]
  },
  {
   "attachments": {},
   "cell_type": "markdown",
   "metadata": {},
   "source": [
    "Let's start the analysis by answering first of our questions."
   ]
  },
  {
   "attachments": {},
   "cell_type": "markdown",
   "metadata": {},
   "source": [
    "                                Q1: Does age affect animal's adoption rate?"
   ]
  },
  {
   "attachments": {},
   "cell_type": "markdown",
   "metadata": {},
   "source": [
    "To answer this question we need to establish a relative difference between adopted and not adopted animals per age group. First let's check the distribution of age by creating a histogram presented below."
   ]
  },
  {
   "attachments": {},
   "cell_type": "markdown",
   "metadata": {},
   "source": [
    "As we can see for each age group there's more adopted than not adopted animals which is a good sign for the shelter."
   ]
  },
  {
   "cell_type": "code",
   "execution_count": 4,
   "metadata": {},
   "outputs": [
    {
     "data": {
      "text/plain": [
       "Text(0.5, 0, 'age')"
      ]
     },
     "execution_count": 4,
     "metadata": {},
     "output_type": "execute_result"
    },
    {
     "data": {
      "image/png": "[encoded data removed]",
      "text/plain": [
       "<Figure size 864x576 with 1 Axes>"
      ]
     },
     "metadata": {
      "needs_background": "light"
     },
     "output_type": "display_data"
    }
   ],
   "source": [
    "sns.set_palette(\"RdBu\", 5)\n",
    "plt.figure(figsize=(12,8))\n",
    "g = sns.countplot(data = result_2, x = 'age_upon_intake', hue = 'outcome_type')\n",
    "plt.legend(['Not Adopted',\"Adopted\"],title=('adoption'))\n",
    "plt.title('Age Countplot')\n",
    "plt.xlabel('age')\n"
   ]
  },
  {
   "attachments": {},
   "cell_type": "markdown",
   "metadata": {},
   "source": [
    "As we can see above the distribution is close to exponential. We can also check the distribution of outcome_type. As we can see below the number of Adopted and not Adopted animals seems pretty equal. "
   ]
  },
  {
   "cell_type": "code",
   "execution_count": 5,
   "metadata": {},
   "outputs": [
    {
     "data": {
      "text/plain": [
       "Text(0.5, 0, 'Adoption')"
      ]
     },
     "execution_count": 5,
     "metadata": {},
     "output_type": "execute_result"
    },
    {
     "data": {
      "image/png": "[encoded data removed]",
      "text/plain": [
       "<Figure size 864x576 with 1 Axes>"
      ]
     },
     "metadata": {
      "needs_background": "light"
     },
     "output_type": "display_data"
    }
   ],
   "source": [
    "plt.figure(figsize=(12,8))\n",
    "sns.countplot(data = result_2, x = 'outcome_type')\n",
    "\n",
    "\n",
    "plt.title('Adoption Countplot')\n",
    "plt.xlabel('Adoption')"
   ]
  },
  {
   "attachments": {},
   "cell_type": "markdown",
   "metadata": {},
   "source": [
    "We can start preparing the data to make a percentage relative difference barplot. First we need to subtract Not adopted animals from adopted ones per age group and divide it by Not Adopted number."
   ]
  },
  {
   "cell_type": "code",
   "execution_count": 6,
   "metadata": {},
   "outputs": [
    {
     "data": {
      "text/html": [
       "<div>\n",
       "<style scoped>\n",
       "    .dataframe tbody tr th:only-of-type {\n",
       "        vertical-align: middle;\n",
       "    }\n",
       "\n",
       "    .dataframe tbody tr th {\n",
       "        vertical-align: top;\n",
       "    }\n",
       "\n",
       "    .dataframe thead th {\n",
       "        text-align: right;\n",
       "    }\n",
       "</style>\n",
       "<table border=\"1\" class=\"dataframe\">\n",
       "  <thead>\n",
       "    <tr style=\"text-align: right;\">\n",
       "      <th></th>\n",
       "      <th>Not Adopted</th>\n",
       "      <th>Adopted</th>\n",
       "      <th>age_upon_intake</th>\n",
       "      <th>sub_quantity</th>\n",
       "      <th>sum</th>\n",
       "    </tr>\n",
       "  </thead>\n",
       "  <tbody>\n",
       "    <tr>\n",
       "      <th>0</th>\n",
       "      <td>21630.0</td>\n",
       "      <td>28850.0</td>\n",
       "      <td>0</td>\n",
       "      <td>7220.0</td>\n",
       "      <td>50480.0</td>\n",
       "    </tr>\n",
       "    <tr>\n",
       "      <th>1</th>\n",
       "      <td>8733.0</td>\n",
       "      <td>10274.0</td>\n",
       "      <td>1</td>\n",
       "      <td>1541.0</td>\n",
       "      <td>19007.0</td>\n",
       "    </tr>\n",
       "    <tr>\n",
       "      <th>2</th>\n",
       "      <td>6941.0</td>\n",
       "      <td>9524.0</td>\n",
       "      <td>2</td>\n",
       "      <td>2583.0</td>\n",
       "      <td>16465.0</td>\n",
       "    </tr>\n",
       "    <tr>\n",
       "      <th>3</th>\n",
       "      <td>2157.0</td>\n",
       "      <td>3986.0</td>\n",
       "      <td>3</td>\n",
       "      <td>1829.0</td>\n",
       "      <td>6143.0</td>\n",
       "    </tr>\n",
       "    <tr>\n",
       "      <th>4</th>\n",
       "      <td>1105.0</td>\n",
       "      <td>2470.0</td>\n",
       "      <td>4</td>\n",
       "      <td>1365.0</td>\n",
       "      <td>3575.0</td>\n",
       "    </tr>\n",
       "    <tr>\n",
       "      <th>5</th>\n",
       "      <td>1093.0</td>\n",
       "      <td>2273.0</td>\n",
       "      <td>5</td>\n",
       "      <td>1180.0</td>\n",
       "      <td>3366.0</td>\n",
       "    </tr>\n",
       "    <tr>\n",
       "      <th>6</th>\n",
       "      <td>664.0</td>\n",
       "      <td>1585.0</td>\n",
       "      <td>6</td>\n",
       "      <td>921.0</td>\n",
       "      <td>2249.0</td>\n",
       "    </tr>\n",
       "    <tr>\n",
       "      <th>7</th>\n",
       "      <td>533.0</td>\n",
       "      <td>1443.0</td>\n",
       "      <td>7</td>\n",
       "      <td>910.0</td>\n",
       "      <td>1976.0</td>\n",
       "    </tr>\n",
       "    <tr>\n",
       "      <th>8</th>\n",
       "      <td>604.0</td>\n",
       "      <td>1364.0</td>\n",
       "      <td>8</td>\n",
       "      <td>760.0</td>\n",
       "      <td>1968.0</td>\n",
       "    </tr>\n",
       "    <tr>\n",
       "      <th>9</th>\n",
       "      <td>301.0</td>\n",
       "      <td>817.0</td>\n",
       "      <td>9</td>\n",
       "      <td>516.0</td>\n",
       "      <td>1118.0</td>\n",
       "    </tr>\n",
       "    <tr>\n",
       "      <th>10</th>\n",
       "      <td>625.0</td>\n",
       "      <td>1031.0</td>\n",
       "      <td>10</td>\n",
       "      <td>406.0</td>\n",
       "      <td>1656.0</td>\n",
       "    </tr>\n",
       "    <tr>\n",
       "      <th>11</th>\n",
       "      <td>169.0</td>\n",
       "      <td>465.0</td>\n",
       "      <td>11</td>\n",
       "      <td>296.0</td>\n",
       "      <td>634.0</td>\n",
       "    </tr>\n",
       "    <tr>\n",
       "      <th>12</th>\n",
       "      <td>325.0</td>\n",
       "      <td>475.0</td>\n",
       "      <td>12</td>\n",
       "      <td>150.0</td>\n",
       "      <td>800.0</td>\n",
       "    </tr>\n",
       "    <tr>\n",
       "      <th>13</th>\n",
       "      <td>155.0</td>\n",
       "      <td>361.0</td>\n",
       "      <td>13</td>\n",
       "      <td>206.0</td>\n",
       "      <td>516.0</td>\n",
       "    </tr>\n",
       "    <tr>\n",
       "      <th>14</th>\n",
       "      <td>129.0</td>\n",
       "      <td>223.0</td>\n",
       "      <td>14</td>\n",
       "      <td>94.0</td>\n",
       "      <td>352.0</td>\n",
       "    </tr>\n",
       "    <tr>\n",
       "      <th>15</th>\n",
       "      <td>120.0</td>\n",
       "      <td>198.0</td>\n",
       "      <td>15</td>\n",
       "      <td>78.0</td>\n",
       "      <td>318.0</td>\n",
       "    </tr>\n",
       "    <tr>\n",
       "      <th>16</th>\n",
       "      <td>35.0</td>\n",
       "      <td>93.0</td>\n",
       "      <td>16</td>\n",
       "      <td>58.0</td>\n",
       "      <td>128.0</td>\n",
       "    </tr>\n",
       "    <tr>\n",
       "      <th>17</th>\n",
       "      <td>27.0</td>\n",
       "      <td>51.0</td>\n",
       "      <td>17</td>\n",
       "      <td>24.0</td>\n",
       "      <td>78.0</td>\n",
       "    </tr>\n",
       "    <tr>\n",
       "      <th>18</th>\n",
       "      <td>13.0</td>\n",
       "      <td>31.0</td>\n",
       "      <td>18</td>\n",
       "      <td>18.0</td>\n",
       "      <td>44.0</td>\n",
       "    </tr>\n",
       "    <tr>\n",
       "      <th>19</th>\n",
       "      <td>9.0</td>\n",
       "      <td>17.0</td>\n",
       "      <td>19</td>\n",
       "      <td>8.0</td>\n",
       "      <td>26.0</td>\n",
       "    </tr>\n",
       "    <tr>\n",
       "      <th>20</th>\n",
       "      <td>9.0</td>\n",
       "      <td>9.0</td>\n",
       "      <td>20</td>\n",
       "      <td>0.0</td>\n",
       "      <td>18.0</td>\n",
       "    </tr>\n",
       "    <tr>\n",
       "      <th>21</th>\n",
       "      <td>1.0</td>\n",
       "      <td>0.0</td>\n",
       "      <td>21</td>\n",
       "      <td>-1.0</td>\n",
       "      <td>1.0</td>\n",
       "    </tr>\n",
       "    <tr>\n",
       "      <th>22</th>\n",
       "      <td>1.0</td>\n",
       "      <td>4.0</td>\n",
       "      <td>22</td>\n",
       "      <td>3.0</td>\n",
       "      <td>5.0</td>\n",
       "    </tr>\n",
       "    <tr>\n",
       "      <th>23</th>\n",
       "      <td>1.0</td>\n",
       "      <td>0.0</td>\n",
       "      <td>23</td>\n",
       "      <td>-1.0</td>\n",
       "      <td>1.0</td>\n",
       "    </tr>\n",
       "    <tr>\n",
       "      <th>24</th>\n",
       "      <td>0.0</td>\n",
       "      <td>1.0</td>\n",
       "      <td>24</td>\n",
       "      <td>1.0</td>\n",
       "      <td>1.0</td>\n",
       "    </tr>\n",
       "    <tr>\n",
       "      <th>25</th>\n",
       "      <td>1.0</td>\n",
       "      <td>0.0</td>\n",
       "      <td>25</td>\n",
       "      <td>-1.0</td>\n",
       "      <td>1.0</td>\n",
       "    </tr>\n",
       "  </tbody>\n",
       "</table>\n",
       "</div>"
      ],
      "text/plain": [
       "    Not Adopted  Adopted  age_upon_intake  sub_quantity      sum\n",
       "0       21630.0  28850.0                0        7220.0  50480.0\n",
       "1        8733.0  10274.0                1        1541.0  19007.0\n",
       "2        6941.0   9524.0                2        2583.0  16465.0\n",
       "3        2157.0   3986.0                3        1829.0   6143.0\n",
       "4        1105.0   2470.0                4        1365.0   3575.0\n",
       "5        1093.0   2273.0                5        1180.0   3366.0\n",
       "6         664.0   1585.0                6         921.0   2249.0\n",
       "7         533.0   1443.0                7         910.0   1976.0\n",
       "8         604.0   1364.0                8         760.0   1968.0\n",
       "9         301.0    817.0                9         516.0   1118.0\n",
       "10        625.0   1031.0               10         406.0   1656.0\n",
       "11        169.0    465.0               11         296.0    634.0\n",
       "12        325.0    475.0               12         150.0    800.0\n",
       "13        155.0    361.0               13         206.0    516.0\n",
       "14        129.0    223.0               14          94.0    352.0\n",
       "15        120.0    198.0               15          78.0    318.0\n",
       "16         35.0     93.0               16          58.0    128.0\n",
       "17         27.0     51.0               17          24.0     78.0\n",
       "18         13.0     31.0               18          18.0     44.0\n",
       "19          9.0     17.0               19           8.0     26.0\n",
       "20          9.0      9.0               20           0.0     18.0\n",
       "21          1.0      0.0               21          -1.0      1.0\n",
       "22          1.0      4.0               22           3.0      5.0\n",
       "23          1.0      0.0               23          -1.0      1.0\n",
       "24          0.0      1.0               24           1.0      1.0\n",
       "25          1.0      0.0               25          -1.0      1.0"
      ]
     },
     "execution_count": 6,
     "metadata": {},
     "output_type": "execute_result"
    }
   ],
   "source": [
    "diff = result_2[['age_upon_intake','outcome_type']]\n",
    "diff = diff.groupby(['age_upon_intake','outcome_type'],as_index=False).size()\n",
    "\n",
    "\n",
    "dif = diff.pivot(index='age_upon_intake', columns='outcome_type', values = 'size')\n",
    "dif = dif.fillna(0)\n",
    "sum_ = dif[0.0]+dif[1.0]\n",
    "no = dif[0.0]\n",
    "dif_1 = dif[1.0].sub(dif[0.0],fill_value=0).reset_index(name='sub_quantity')\n",
    "\n",
    "dif = pd.concat([dif,dif_1,sum_],axis=1)\n",
    "dif.columns = ['Not Adopted','Adopted','age_upon_intake', 'sub_quantity', 'sum']\n",
    "\n",
    "dif\n",
    "\n",
    "\n",
    "\n"
   ]
  },
  {
   "attachments": {},
   "cell_type": "markdown",
   "metadata": {},
   "source": [
    "As we can see up until age of 9 the percent relative difference between adopted and not adopted rises. At the age of 9 the count of adopted animals is 184% higher than that of the not adopted ones. We cannot however compare these percentages across age group since relative difference is very sensitive to sample size. However we can conclude that most of the animals do end up getting adopted no matter their age. Some Age groups such as ages 7 and 8 have similar sample sizes so we can compare them easily. For example, animals aged 8 are less likely to get adopted than animals aged 7.  The same situation happens with ages 4 and 5, 14 and 15, 11 and 13. As a matter of fact we could split the age groups into equal groups to compare them across groups. Nevertheless, based on the previous sentence we can assume that the older the animal the smaller the chances of adoption."
   ]
  },
  {
   "cell_type": "code",
   "execution_count": 7,
   "metadata": {},
   "outputs": [
    {
     "data": {
      "text/plain": [
       "Text(0, 0.5, 'percent difference [%]')"
      ]
     },
     "execution_count": 7,
     "metadata": {},
     "output_type": "execute_result"
    },
    {
     "data": {
      "image/png": "[encoded data removed]",
      "text/plain": [
       "<Figure size 864x576 with 1 Axes>"
      ]
     },
     "metadata": {
      "needs_background": "light"
     },
     "output_type": "display_data"
    }
   ],
   "source": [
    "sns.set_palette(\"RdBu\", 26)\n",
    "plt.figure(figsize=(12,8))\n",
    "g = sns.barplot(data=dif, x=\"age_upon_intake\", y=round(dif[\"sub_quantity\"]/dif['Not Adopted']*100,2), order=dif.sort_values('age_upon_intake').index)\n",
    "plt.xticks(rotation=90)\n",
    "g.bar_label(g.containers[0])\n",
    "plt.title('Relative difference between Adopted and not Adopted animals per age group')\n",
    "plt.xlabel('age')\n",
    "plt.ylabel('percent difference [%]')"
   ]
  },
  {
   "cell_type": "markdown",
   "metadata": {},
   "source": [
    "W can also perform Pearson’s chi-squared test to determine whether there is a significant association between two categorical variables in the data. The test involves two hypotheses (H0 & H1):\n",
    "\n",
    "H0 : The two categorical variables (age and Adoption)have no relationship (independent)\n",
    "H1 : There is a relationship (dependent) between two categorical variables"
   ]
  },
  {
   "cell_type": "code",
   "execution_count": 8,
   "metadata": {},
   "outputs": [
    {
     "data": {
      "text/html": [
       "<div>\n",
       "<style scoped>\n",
       "    .dataframe tbody tr th:only-of-type {\n",
       "        vertical-align: middle;\n",
       "    }\n",
       "\n",
       "    .dataframe tbody tr th {\n",
       "        vertical-align: top;\n",
       "    }\n",
       "\n",
       "    .dataframe thead th {\n",
       "        text-align: right;\n",
       "    }\n",
       "</style>\n",
       "<table border=\"1\" class=\"dataframe\">\n",
       "  <thead>\n",
       "    <tr style=\"text-align: right;\">\n",
       "      <th></th>\n",
       "      <th>Not Adopted</th>\n",
       "      <th>Adopted</th>\n",
       "      <th>Row_total</th>\n",
       "    </tr>\n",
       "    <tr>\n",
       "      <th>age_upon_intake</th>\n",
       "      <th></th>\n",
       "      <th></th>\n",
       "      <th></th>\n",
       "    </tr>\n",
       "  </thead>\n",
       "  <tbody>\n",
       "    <tr>\n",
       "      <th>0</th>\n",
       "      <td>21630</td>\n",
       "      <td>28850</td>\n",
       "      <td>50480</td>\n",
       "    </tr>\n",
       "    <tr>\n",
       "      <th>1</th>\n",
       "      <td>8733</td>\n",
       "      <td>10274</td>\n",
       "      <td>19007</td>\n",
       "    </tr>\n",
       "    <tr>\n",
       "      <th>2</th>\n",
       "      <td>6941</td>\n",
       "      <td>9524</td>\n",
       "      <td>16465</td>\n",
       "    </tr>\n",
       "    <tr>\n",
       "      <th>3</th>\n",
       "      <td>2157</td>\n",
       "      <td>3986</td>\n",
       "      <td>6143</td>\n",
       "    </tr>\n",
       "    <tr>\n",
       "      <th>4</th>\n",
       "      <td>1105</td>\n",
       "      <td>2470</td>\n",
       "      <td>3575</td>\n",
       "    </tr>\n",
       "    <tr>\n",
       "      <th>5</th>\n",
       "      <td>1093</td>\n",
       "      <td>2273</td>\n",
       "      <td>3366</td>\n",
       "    </tr>\n",
       "    <tr>\n",
       "      <th>6</th>\n",
       "      <td>664</td>\n",
       "      <td>1585</td>\n",
       "      <td>2249</td>\n",
       "    </tr>\n",
       "    <tr>\n",
       "      <th>7</th>\n",
       "      <td>533</td>\n",
       "      <td>1443</td>\n",
       "      <td>1976</td>\n",
       "    </tr>\n",
       "    <tr>\n",
       "      <th>8</th>\n",
       "      <td>604</td>\n",
       "      <td>1364</td>\n",
       "      <td>1968</td>\n",
       "    </tr>\n",
       "    <tr>\n",
       "      <th>9</th>\n",
       "      <td>301</td>\n",
       "      <td>817</td>\n",
       "      <td>1118</td>\n",
       "    </tr>\n",
       "    <tr>\n",
       "      <th>10</th>\n",
       "      <td>625</td>\n",
       "      <td>1031</td>\n",
       "      <td>1656</td>\n",
       "    </tr>\n",
       "    <tr>\n",
       "      <th>11</th>\n",
       "      <td>169</td>\n",
       "      <td>465</td>\n",
       "      <td>634</td>\n",
       "    </tr>\n",
       "    <tr>\n",
       "      <th>12</th>\n",
       "      <td>325</td>\n",
       "      <td>475</td>\n",
       "      <td>800</td>\n",
       "    </tr>\n",
       "    <tr>\n",
       "      <th>13</th>\n",
       "      <td>155</td>\n",
       "      <td>361</td>\n",
       "      <td>516</td>\n",
       "    </tr>\n",
       "    <tr>\n",
       "      <th>14</th>\n",
       "      <td>129</td>\n",
       "      <td>223</td>\n",
       "      <td>352</td>\n",
       "    </tr>\n",
       "    <tr>\n",
       "      <th>15</th>\n",
       "      <td>120</td>\n",
       "      <td>198</td>\n",
       "      <td>318</td>\n",
       "    </tr>\n",
       "    <tr>\n",
       "      <th>16</th>\n",
       "      <td>35</td>\n",
       "      <td>93</td>\n",
       "      <td>128</td>\n",
       "    </tr>\n",
       "    <tr>\n",
       "      <th>17</th>\n",
       "      <td>27</td>\n",
       "      <td>51</td>\n",
       "      <td>78</td>\n",
       "    </tr>\n",
       "    <tr>\n",
       "      <th>18</th>\n",
       "      <td>13</td>\n",
       "      <td>31</td>\n",
       "      <td>44</td>\n",
       "    </tr>\n",
       "    <tr>\n",
       "      <th>19</th>\n",
       "      <td>9</td>\n",
       "      <td>17</td>\n",
       "      <td>26</td>\n",
       "    </tr>\n",
       "    <tr>\n",
       "      <th>20</th>\n",
       "      <td>9</td>\n",
       "      <td>9</td>\n",
       "      <td>18</td>\n",
       "    </tr>\n",
       "    <tr>\n",
       "      <th>21</th>\n",
       "      <td>1</td>\n",
       "      <td>0</td>\n",
       "      <td>1</td>\n",
       "    </tr>\n",
       "    <tr>\n",
       "      <th>22</th>\n",
       "      <td>1</td>\n",
       "      <td>4</td>\n",
       "      <td>5</td>\n",
       "    </tr>\n",
       "    <tr>\n",
       "      <th>23</th>\n",
       "      <td>1</td>\n",
       "      <td>0</td>\n",
       "      <td>1</td>\n",
       "    </tr>\n",
       "    <tr>\n",
       "      <th>24</th>\n",
       "      <td>0</td>\n",
       "      <td>1</td>\n",
       "      <td>1</td>\n",
       "    </tr>\n",
       "    <tr>\n",
       "      <th>25</th>\n",
       "      <td>1</td>\n",
       "      <td>0</td>\n",
       "      <td>1</td>\n",
       "    </tr>\n",
       "    <tr>\n",
       "      <th>All</th>\n",
       "      <td>45381</td>\n",
       "      <td>65545</td>\n",
       "      <td>110926</td>\n",
       "    </tr>\n",
       "  </tbody>\n",
       "</table>\n",
       "</div>"
      ],
      "text/plain": [
       "                 Not Adopted  Adopted  Row_total\n",
       "age_upon_intake                                 \n",
       "0                      21630    28850      50480\n",
       "1                       8733    10274      19007\n",
       "2                       6941     9524      16465\n",
       "3                       2157     3986       6143\n",
       "4                       1105     2470       3575\n",
       "5                       1093     2273       3366\n",
       "6                        664     1585       2249\n",
       "7                        533     1443       1976\n",
       "8                        604     1364       1968\n",
       "9                        301      817       1118\n",
       "10                       625     1031       1656\n",
       "11                       169      465        634\n",
       "12                       325      475        800\n",
       "13                       155      361        516\n",
       "14                       129      223        352\n",
       "15                       120      198        318\n",
       "16                        35       93        128\n",
       "17                        27       51         78\n",
       "18                        13       31         44\n",
       "19                         9       17         26\n",
       "20                         9        9         18\n",
       "21                         1        0          1\n",
       "22                         1        4          5\n",
       "23                         1        0          1\n",
       "24                         0        1          1\n",
       "25                         1        0          1\n",
       "All                    45381    65545     110926"
      ]
     },
     "execution_count": 8,
     "metadata": {},
     "output_type": "execute_result"
    }
   ],
   "source": [
    "tab = pd.crosstab(result_2.age_upon_intake, result_2.outcome_type, margins = True)\n",
    "tab.columns = ['Not Adopted','Adopted','Row_total']\n",
    "observed = tab.iloc[0:26,0:2]\n",
    "expected =  np.outer(tab[\"Row_total\"][0:26],\n",
    "                     tab.loc[\"All\"][0:2]) / 110479\n",
    "expected = pd.DataFrame(expected)\n",
    " \n",
    "expected.columns = ['Not Adopted','Adopted']\n",
    "tab\n"
   ]
  },
  {
   "cell_type": "code",
   "execution_count": 9,
   "metadata": {},
   "outputs": [
    {
     "data": {
      "text/html": [
       "<div>\n",
       "<style scoped>\n",
       "    .dataframe tbody tr th:only-of-type {\n",
       "        vertical-align: middle;\n",
       "    }\n",
       "\n",
       "    .dataframe tbody tr th {\n",
       "        vertical-align: top;\n",
       "    }\n",
       "\n",
       "    .dataframe thead th {\n",
       "        text-align: right;\n",
       "    }\n",
       "</style>\n",
       "<table border=\"1\" class=\"dataframe\">\n",
       "  <thead>\n",
       "    <tr style=\"text-align: right;\">\n",
       "      <th></th>\n",
       "      <th>Not Adopted</th>\n",
       "      <th>Adopted</th>\n",
       "    </tr>\n",
       "  </thead>\n",
       "  <tbody>\n",
       "    <tr>\n",
       "      <th>0</th>\n",
       "      <td>20735.459952</td>\n",
       "      <td>29948.783027</td>\n",
       "    </tr>\n",
       "    <tr>\n",
       "      <th>1</th>\n",
       "      <td>7807.426452</td>\n",
       "      <td>11276.476208</td>\n",
       "    </tr>\n",
       "    <tr>\n",
       "      <th>2</th>\n",
       "      <td>6763.259669</td>\n",
       "      <td>9768.358014</td>\n",
       "    </tr>\n",
       "    <tr>\n",
       "      <th>3</th>\n",
       "      <td>2523.334598</td>\n",
       "      <td>3644.520090</td>\n",
       "    </tr>\n",
       "    <tr>\n",
       "      <th>4</th>\n",
       "      <td>1468.487903</td>\n",
       "      <td>2120.976611</td>\n",
       "    </tr>\n",
       "    <tr>\n",
       "      <th>5</th>\n",
       "      <td>1382.637841</td>\n",
       "      <td>1996.981055</td>\n",
       "    </tr>\n",
       "    <tr>\n",
       "      <th>6</th>\n",
       "      <td>923.812390</td>\n",
       "      <td>1334.287104</td>\n",
       "    </tr>\n",
       "    <tr>\n",
       "      <th>7</th>\n",
       "      <td>811.673313</td>\n",
       "      <td>1172.321618</td>\n",
       "    </tr>\n",
       "    <tr>\n",
       "      <th>8</th>\n",
       "      <td>808.387187</td>\n",
       "      <td>1167.575376</td>\n",
       "    </tr>\n",
       "    <tr>\n",
       "      <th>9</th>\n",
       "      <td>459.236217</td>\n",
       "      <td>663.287231</td>\n",
       "    </tr>\n",
       "    <tr>\n",
       "      <th>10</th>\n",
       "      <td>680.228242</td>\n",
       "      <td>982.471963</td>\n",
       "    </tr>\n",
       "    <tr>\n",
       "      <th>11</th>\n",
       "      <td>260.425547</td>\n",
       "      <td>376.139628</td>\n",
       "    </tr>\n",
       "    <tr>\n",
       "      <th>12</th>\n",
       "      <td>328.612678</td>\n",
       "      <td>474.624137</td>\n",
       "    </tr>\n",
       "    <tr>\n",
       "      <th>13</th>\n",
       "      <td>211.955177</td>\n",
       "      <td>306.132568</td>\n",
       "    </tr>\n",
       "    <tr>\n",
       "      <th>14</th>\n",
       "      <td>144.589578</td>\n",
       "      <td>208.834620</td>\n",
       "    </tr>\n",
       "    <tr>\n",
       "      <th>15</th>\n",
       "      <td>130.623539</td>\n",
       "      <td>188.663094</td>\n",
       "    </tr>\n",
       "    <tr>\n",
       "      <th>16</th>\n",
       "      <td>52.578028</td>\n",
       "      <td>75.939862</td>\n",
       "    </tr>\n",
       "    <tr>\n",
       "      <th>17</th>\n",
       "      <td>32.039736</td>\n",
       "      <td>46.275853</td>\n",
       "    </tr>\n",
       "    <tr>\n",
       "      <th>18</th>\n",
       "      <td>18.073697</td>\n",
       "      <td>26.104328</td>\n",
       "    </tr>\n",
       "    <tr>\n",
       "      <th>19</th>\n",
       "      <td>10.679912</td>\n",
       "      <td>15.425284</td>\n",
       "    </tr>\n",
       "    <tr>\n",
       "      <th>20</th>\n",
       "      <td>7.393785</td>\n",
       "      <td>10.679043</td>\n",
       "    </tr>\n",
       "    <tr>\n",
       "      <th>21</th>\n",
       "      <td>0.410766</td>\n",
       "      <td>0.593280</td>\n",
       "    </tr>\n",
       "    <tr>\n",
       "      <th>22</th>\n",
       "      <td>2.053829</td>\n",
       "      <td>2.966401</td>\n",
       "    </tr>\n",
       "    <tr>\n",
       "      <th>23</th>\n",
       "      <td>0.410766</td>\n",
       "      <td>0.593280</td>\n",
       "    </tr>\n",
       "    <tr>\n",
       "      <th>24</th>\n",
       "      <td>0.410766</td>\n",
       "      <td>0.593280</td>\n",
       "    </tr>\n",
       "    <tr>\n",
       "      <th>25</th>\n",
       "      <td>0.410766</td>\n",
       "      <td>0.593280</td>\n",
       "    </tr>\n",
       "  </tbody>\n",
       "</table>\n",
       "</div>"
      ],
      "text/plain": [
       "     Not Adopted       Adopted\n",
       "0   20735.459952  29948.783027\n",
       "1    7807.426452  11276.476208\n",
       "2    6763.259669   9768.358014\n",
       "3    2523.334598   3644.520090\n",
       "4    1468.487903   2120.976611\n",
       "5    1382.637841   1996.981055\n",
       "6     923.812390   1334.287104\n",
       "7     811.673313   1172.321618\n",
       "8     808.387187   1167.575376\n",
       "9     459.236217    663.287231\n",
       "10    680.228242    982.471963\n",
       "11    260.425547    376.139628\n",
       "12    328.612678    474.624137\n",
       "13    211.955177    306.132568\n",
       "14    144.589578    208.834620\n",
       "15    130.623539    188.663094\n",
       "16     52.578028     75.939862\n",
       "17     32.039736     46.275853\n",
       "18     18.073697     26.104328\n",
       "19     10.679912     15.425284\n",
       "20      7.393785     10.679043\n",
       "21      0.410766      0.593280\n",
       "22      2.053829      2.966401\n",
       "23      0.410766      0.593280\n",
       "24      0.410766      0.593280\n",
       "25      0.410766      0.593280"
      ]
     },
     "execution_count": 9,
     "metadata": {},
     "output_type": "execute_result"
    }
   ],
   "source": [
    "expected"
   ]
  },
  {
   "cell_type": "code",
   "execution_count": 10,
   "metadata": {},
   "outputs": [
    {
     "name": "stdout",
     "output_type": "stream",
     "text": [
      "1182.5512344657816\n"
     ]
    }
   ],
   "source": [
    "chi_squared_stat = (((observed-expected)**2)/expected).sum().sum()\n",
    "print(chi_squared_stat)"
   ]
  },
  {
   "cell_type": "code",
   "execution_count": 11,
   "metadata": {},
   "outputs": [
    {
     "name": "stdout",
     "output_type": "stream",
     "text": [
      "Critical value: 37.65248413348277\n",
      "P value: 0.0\n"
     ]
    }
   ],
   "source": [
    "\n",
    "critical_value= scipy.stats.chi2.ppf(q = 0.95, # Find the critical value for 95% confidence*\n",
    "                      df = 25)   \n",
    " \n",
    "print(\"Critical value:\",critical_value)\n",
    "# degrees of freedom equal (26-1)*(2-1)\n",
    "p_value = 1 - scipy.stats.chi2.cdf(x=chi_squared_stat,  \n",
    "                             df=25)\n",
    "print(\"P value:\",p_value)"
   ]
  },
  {
   "cell_type": "markdown",
   "metadata": {},
   "source": [
    "0<0.05 which means there is significant relationship between age and adoption with 95% confidence level"
   ]
  },
  {
   "attachments": {},
   "cell_type": "markdown",
   "metadata": {},
   "source": [
    "Lastly we can see the age distribution in a boxplot. As we can see, everything above the age of 5 is considered as an outlier. As we can see based on the median, 50% of the values are below the age of 1. This means that most animals enter the shelter before the age of one which could mean that people usually abandon or offer for adoption young animals. Nevertheless we can also see in the Outcome Age Boxplot that most animals exit shelter around the age of 1 too. "
   ]
  },
  {
   "cell_type": "code",
   "execution_count": 12,
   "metadata": {},
   "outputs": [
    {
     "data": {
      "text/plain": [
       "Text(0.5, 0, 'age')"
      ]
     },
     "execution_count": 12,
     "metadata": {},
     "output_type": "execute_result"
    },
    {
     "data": {
      "image/png": "[encoded data removed]",
      "text/plain": [
       "<Figure size 864x576 with 1 Axes>"
      ]
     },
     "metadata": {
      "needs_background": "light"
     },
     "output_type": "display_data"
    }
   ],
   "source": [
    "sns.set_palette(\"RdBu\", 26)\n",
    "plt.figure(figsize=(12,8))\n",
    "\n",
    "sns.boxplot(data=result_2, x=\"age_upon_intake\",dodge=False)\n",
    "plt.title('Intake Age Boxplot')\n",
    "plt.xlabel('age')\n"
   ]
  },
  {
   "cell_type": "code",
   "execution_count": 13,
   "metadata": {},
   "outputs": [
    {
     "data": {
      "text/plain": [
       "Text(0.5, 0, 'age')"
      ]
     },
     "execution_count": 13,
     "metadata": {},
     "output_type": "execute_result"
    },
    {
     "data": {
      "image/png": "[encoded data removed]",
      "text/plain": [
       "<Figure size 864x576 with 1 Axes>"
      ]
     },
     "metadata": {
      "needs_background": "light"
     },
     "output_type": "display_data"
    }
   ],
   "source": [
    "sns.set_palette(\"RdBu\", 26)\n",
    "plt.figure(figsize=(12,8))\n",
    "\n",
    "sns.boxplot(data=result_2, x=\"age_upon_outcome\")\n",
    "plt.title('Outcome Age Boxplot')\n",
    "plt.xlabel('age')"
   ]
  },
  {
   "attachments": {},
   "cell_type": "markdown",
   "metadata": {},
   "source": [
    "            Q2: Does animal's health condition upon entering shelter have an impact on its adoption rate?"
   ]
  },
  {
   "attachments": {},
   "cell_type": "markdown",
   "metadata": {},
   "source": [
    "Now let's analyse the outcome_condition variable which represents the state in which the animal arrived in the shelter.\n",
    "As we can see below some of the categories are so rare we can put them all in the 'other' category. The normal category means that majority of animals arrive at the shelter in good health. The next most counted category is injured."
   ]
  },
  {
   "cell_type": "code",
   "execution_count": 14,
   "metadata": {},
   "outputs": [
    {
     "data": {
      "text/plain": [
       "Text(0.5, 0, 'animal condition upon arrival')"
      ]
     },
     "execution_count": 14,
     "metadata": {},
     "output_type": "execute_result"
    },
    {
     "data": {
      "image/png": "[encoded data removed]",
      "text/plain": [
       "<Figure size 864x576 with 1 Axes>"
      ]
     },
     "metadata": {
      "needs_background": "light"
     },
     "output_type": "display_data"
    }
   ],
   "source": [
    "plt.figure(figsize=(12,8))\n",
    "sns.set_palette(\"RdBu\", 10)\n",
    "plt.title('Countplot of animal condition upon arival')\n",
    "chart = sns.countplot(data = result_2, x = 'outcome_condition')\n",
    "plt.xticks(rotation=45)\n",
    "plt.xlabel('animal condition upon arrival')\n"
   ]
  },
  {
   "attachments": {},
   "cell_type": "markdown",
   "metadata": {},
   "source": [
    "Let's map the other category"
   ]
  },
  {
   "cell_type": "code",
   "execution_count": 15,
   "metadata": {},
   "outputs": [],
   "source": [
    "result_2['outcome_condition'] = result_2['outcome_condition'].map({'Normal':'Normal','Sick':'Sick','Injured':'Injured','Nursing':'Nursing','Aged':'Other','Other':'Other', 'Feral':\"Other\", 'Medical':\"Other\", 'Pregnant':'Other', 'Behavior':'Other'})\n"
   ]
  },
  {
   "cell_type": "code",
   "execution_count": 16,
   "metadata": {},
   "outputs": [
    {
     "data": {
      "text/plain": [
       "Text(0.5, 1.0, 'Countplot of animal condition upon arival')"
      ]
     },
     "execution_count": 16,
     "metadata": {},
     "output_type": "execute_result"
    },
    {
     "data": {
      "image/png": "[encoded data removed]",
      "text/plain": [
       "<Figure size 864x576 with 1 Axes>"
      ]
     },
     "metadata": {
      "needs_background": "light"
     },
     "output_type": "display_data"
    }
   ],
   "source": [
    "plt.figure(figsize=(12,8))\n",
    "sns.set_palette(\"RdBu\", 6)\n",
    "chart = sns.countplot(data = result_2, x = 'outcome_condition')\n",
    "plt.xticks(rotation=45)\n",
    "plt.xlabel('animal condition upon arrival')\n",
    "plt.title('Countplot of animal condition upon arival')"
   ]
  },
  {
   "attachments": {},
   "cell_type": "markdown",
   "metadata": {},
   "source": [
    "Now we can verify the dependency between outcome_condition and adoption rate."
   ]
  },
  {
   "attachments": {},
   "cell_type": "markdown",
   "metadata": {},
   "source": [
    "We can first plot a basic countplot to see the distribution of the data across adopted and not adopted categories. As we can see there's a large discrepancy between the number of animals in each category. We should try the realitev percentage difference between Adopted and not adopted animals per animal's state category again as in the age example. We could also try the violinplot to look at the distributions across categories."
   ]
  },
  {
   "cell_type": "code",
   "execution_count": 17,
   "metadata": {},
   "outputs": [
    {
     "data": {
      "text/plain": [
       "<matplotlib.legend.Legend at 0x1a38af6cd90>"
      ]
     },
     "execution_count": 17,
     "metadata": {},
     "output_type": "execute_result"
    },
    {
     "data": {
      "image/png": "[encoded data removed]",
      "text/plain": [
       "<Figure size 864x576 with 1 Axes>"
      ]
     },
     "metadata": {
      "needs_background": "light"
     },
     "output_type": "display_data"
    }
   ],
   "source": [
    "sns.set_palette(\"RdBu\", 6)\n",
    "plt.figure(figsize=(12,8))\n",
    "chart = sns.countplot(data = result_2, x = 'outcome_condition', hue = 'outcome_type')\n",
    "plt.xticks(rotation=90)\n",
    "plt.xlabel('state of animal upon arrival')\n",
    "plt.ylabel('count')\n",
    "plt.title('Countplot of animal condition upon arival')\n",
    "plt.legend(['Not Adopted',\"Adopted\"],title=('adoption'))\n"
   ]
  },
  {
   "cell_type": "code",
   "execution_count": 18,
   "metadata": {},
   "outputs": [
    {
     "data": {
      "text/html": [
       "<div>\n",
       "<style scoped>\n",
       "    .dataframe tbody tr th:only-of-type {\n",
       "        vertical-align: middle;\n",
       "    }\n",
       "\n",
       "    .dataframe tbody tr th {\n",
       "        vertical-align: top;\n",
       "    }\n",
       "\n",
       "    .dataframe thead th {\n",
       "        text-align: right;\n",
       "    }\n",
       "</style>\n",
       "<table border=\"1\" class=\"dataframe\">\n",
       "  <thead>\n",
       "    <tr style=\"text-align: right;\">\n",
       "      <th></th>\n",
       "      <th>Not Adopted</th>\n",
       "      <th>Adopted</th>\n",
       "      <th>outcome_condition</th>\n",
       "      <th>sub_quantity</th>\n",
       "      <th>sum</th>\n",
       "    </tr>\n",
       "  </thead>\n",
       "  <tbody>\n",
       "    <tr>\n",
       "      <th>Injured</th>\n",
       "      <td>3926</td>\n",
       "      <td>2360</td>\n",
       "      <td>Injured</td>\n",
       "      <td>-1566</td>\n",
       "      <td>6286</td>\n",
       "    </tr>\n",
       "    <tr>\n",
       "      <th>Normal</th>\n",
       "      <td>34807</td>\n",
       "      <td>60565</td>\n",
       "      <td>Normal</td>\n",
       "      <td>25758</td>\n",
       "      <td>95372</td>\n",
       "    </tr>\n",
       "    <tr>\n",
       "      <th>Nursing</th>\n",
       "      <td>2368</td>\n",
       "      <td>1106</td>\n",
       "      <td>Nursing</td>\n",
       "      <td>-1262</td>\n",
       "      <td>3474</td>\n",
       "    </tr>\n",
       "    <tr>\n",
       "      <th>Other</th>\n",
       "      <td>424</td>\n",
       "      <td>441</td>\n",
       "      <td>Other</td>\n",
       "      <td>17</td>\n",
       "      <td>865</td>\n",
       "    </tr>\n",
       "    <tr>\n",
       "      <th>Sick</th>\n",
       "      <td>3856</td>\n",
       "      <td>1073</td>\n",
       "      <td>Sick</td>\n",
       "      <td>-2783</td>\n",
       "      <td>4929</td>\n",
       "    </tr>\n",
       "  </tbody>\n",
       "</table>\n",
       "</div>"
      ],
      "text/plain": [
       "         Not Adopted  Adopted outcome_condition  sub_quantity    sum\n",
       "Injured         3926     2360           Injured         -1566   6286\n",
       "Normal         34807    60565            Normal         25758  95372\n",
       "Nursing         2368     1106           Nursing         -1262   3474\n",
       "Other            424      441             Other            17    865\n",
       "Sick            3856     1073              Sick         -2783   4929"
      ]
     },
     "execution_count": 18,
     "metadata": {},
     "output_type": "execute_result"
    }
   ],
   "source": [
    "diff = result_2[['outcome_condition','outcome_type']]\n",
    "diff = diff.groupby(['outcome_condition','outcome_type'],as_index=False).size()\n",
    "\n",
    "dif = diff.pivot(index='outcome_condition', columns='outcome_type', values = 'size')\n",
    "dif = dif.fillna(0)\n",
    "sum_ = dif[0.0]+dif[1.0]\n",
    "no = dif[0.0]\n",
    "dif_1 = dif[1.0].sub(dif[0.0],fill_value=0).reset_index(name='sub_quantity')\n",
    "\n",
    "dif_1.index = ['Injured','Normal','Nursing','Other','Sick']\n",
    "no.index = ['Injured','Normal','Nursing','Other','Sick']\n",
    "\n",
    "dif = pd.concat([dif,dif_1,sum_],axis=1)\n",
    "dif.columns = ['Not Adopted','Adopted','outcome_condition','sub_quantity',  'sum']\n",
    "\n",
    "dif\n"
   ]
  },
  {
   "attachments": {},
   "cell_type": "markdown",
   "metadata": {},
   "source": [
    "As there is a big discrepancy in sample sizes between normal category and the other categories, we will start our analysis comparing sick, injured, nursing and other categories as they are fairly equally distributed. Sick animals are the least likely to be adopted followed by nursing animals, injured and other. We can assume that sick animals often include seriously, chronically sick and disabled animals who usually have special needs and require additional care which could impact people's willingness to adopt them. Injured animals have higher chances of healing as these are usually broken limbs, ect. These animals are more likely to be adopted since they are more likely to heal completely by the time of their adoption. When we see this we can look at the Normal category which is disproportionatelly high compared to other categories. It is probably caused by the size of normal animal's sample. Nevertheless, looking at other categories we can definetely assume that normal animals have higher chances of getting adopted."
   ]
  },
  {
   "cell_type": "code",
   "execution_count": 19,
   "metadata": {},
   "outputs": [
    {
     "data": {
      "text/plain": [
       "Text(0, 0.5, '[%]')"
      ]
     },
     "execution_count": 19,
     "metadata": {},
     "output_type": "execute_result"
    },
    {
     "data": {
      "image/png": "[encoded data removed]",
      "text/plain": [
       "<Figure size 864x576 with 1 Axes>"
      ]
     },
     "metadata": {
      "needs_background": "light"
     },
     "output_type": "display_data"
    }
   ],
   "source": [
    "plt.figure(figsize=(12,8))\n",
    "y = round(dif[\"sub_quantity\"]/dif['Not Adopted'],2).sort_values(ascending = True)\n",
    "y\n",
    "g = sns.barplot(data=dif, x=\"outcome_condition\", y=round(dif[\"sub_quantity\"]/dif['Not Adopted']*100,2), order=y.index)\n",
    "plt.xticks(rotation=90)\n",
    "g.bar_label(g.containers[0])\n",
    "plt.title('Relative difference between Adopted and not Adopted animals per condition group')\n",
    "plt.xlabel('animal condition')\n",
    "plt.ylabel('[%]')"
   ]
  },
  {
   "cell_type": "markdown",
   "metadata": {},
   "source": [
    "W can also perform Pearson’s chi-squared test to determine whether there is a significant association between two categorical variables in the data. The test involves two hypotheses (H0 & H1):\n",
    "\n",
    "H0 : The two categorical variables (animals health condition and Adoption)have no relationship (independent)\n",
    "H1 : There is a relationship (dependent) between two categorical variables"
   ]
  },
  {
   "cell_type": "code",
   "execution_count": 20,
   "metadata": {},
   "outputs": [
    {
     "data": {
      "text/html": [
       "<div>\n",
       "<style scoped>\n",
       "    .dataframe tbody tr th:only-of-type {\n",
       "        vertical-align: middle;\n",
       "    }\n",
       "\n",
       "    .dataframe tbody tr th {\n",
       "        vertical-align: top;\n",
       "    }\n",
       "\n",
       "    .dataframe thead th {\n",
       "        text-align: right;\n",
       "    }\n",
       "</style>\n",
       "<table border=\"1\" class=\"dataframe\">\n",
       "  <thead>\n",
       "    <tr style=\"text-align: right;\">\n",
       "      <th></th>\n",
       "      <th>Not Adopted</th>\n",
       "      <th>Adopted</th>\n",
       "      <th>Row_total</th>\n",
       "    </tr>\n",
       "    <tr>\n",
       "      <th>outcome_condition</th>\n",
       "      <th></th>\n",
       "      <th></th>\n",
       "      <th></th>\n",
       "    </tr>\n",
       "  </thead>\n",
       "  <tbody>\n",
       "    <tr>\n",
       "      <th>Injured</th>\n",
       "      <td>3926</td>\n",
       "      <td>2360</td>\n",
       "      <td>6286</td>\n",
       "    </tr>\n",
       "    <tr>\n",
       "      <th>Normal</th>\n",
       "      <td>34807</td>\n",
       "      <td>60565</td>\n",
       "      <td>95372</td>\n",
       "    </tr>\n",
       "    <tr>\n",
       "      <th>Nursing</th>\n",
       "      <td>2368</td>\n",
       "      <td>1106</td>\n",
       "      <td>3474</td>\n",
       "    </tr>\n",
       "    <tr>\n",
       "      <th>Other</th>\n",
       "      <td>424</td>\n",
       "      <td>441</td>\n",
       "      <td>865</td>\n",
       "    </tr>\n",
       "    <tr>\n",
       "      <th>Sick</th>\n",
       "      <td>3856</td>\n",
       "      <td>1073</td>\n",
       "      <td>4929</td>\n",
       "    </tr>\n",
       "    <tr>\n",
       "      <th>All</th>\n",
       "      <td>45381</td>\n",
       "      <td>65545</td>\n",
       "      <td>110926</td>\n",
       "    </tr>\n",
       "  </tbody>\n",
       "</table>\n",
       "</div>"
      ],
      "text/plain": [
       "                   Not Adopted  Adopted  Row_total\n",
       "outcome_condition                                 \n",
       "Injured                   3926     2360       6286\n",
       "Normal                   34807    60565      95372\n",
       "Nursing                   2368     1106       3474\n",
       "Other                      424      441        865\n",
       "Sick                      3856     1073       4929\n",
       "All                      45381    65545     110926"
      ]
     },
     "execution_count": 20,
     "metadata": {},
     "output_type": "execute_result"
    }
   ],
   "source": [
    "tab = pd.crosstab(result_2.outcome_condition, result_2.outcome_type, margins = True)\n",
    "tab.columns = ['Not Adopted','Adopted','Row_total']\n",
    "observed = tab.iloc[0:5,0:2]\n",
    "expected =  np.outer(tab[\"Row_total\"][0:5],\n",
    "                     tab.loc[\"All\"][0:2]) / 110479\n",
    "expected = pd.DataFrame(expected)\n",
    " \n",
    "expected.columns = ['Not Adopted','Adopted']\n",
    "tab\n"
   ]
  },
  {
   "attachments": {},
   "cell_type": "markdown",
   "metadata": {},
   "source": [
    "Let's double check whether the nan values are really omitted... Based on the shape of result_2, yes they do."
   ]
  },
  {
   "cell_type": "code",
   "execution_count": 21,
   "metadata": {},
   "outputs": [
    {
     "data": {
      "text/plain": [
       "(110926, 12)"
      ]
     },
     "execution_count": 21,
     "metadata": {},
     "output_type": "execute_result"
    }
   ],
   "source": [
    "result_2.shape"
   ]
  },
  {
   "cell_type": "code",
   "execution_count": 22,
   "metadata": {},
   "outputs": [
    {
     "data": {
      "text/html": [
       "<div>\n",
       "<style scoped>\n",
       "    .dataframe tbody tr th:only-of-type {\n",
       "        vertical-align: middle;\n",
       "    }\n",
       "\n",
       "    .dataframe tbody tr th {\n",
       "        vertical-align: top;\n",
       "    }\n",
       "\n",
       "    .dataframe thead th {\n",
       "        text-align: right;\n",
       "    }\n",
       "</style>\n",
       "<table border=\"1\" class=\"dataframe\">\n",
       "  <thead>\n",
       "    <tr style=\"text-align: right;\">\n",
       "      <th></th>\n",
       "      <th>Not Adopted</th>\n",
       "      <th>Adopted</th>\n",
       "    </tr>\n",
       "    <tr>\n",
       "      <th>outcome_condition</th>\n",
       "      <th></th>\n",
       "      <th></th>\n",
       "    </tr>\n",
       "  </thead>\n",
       "  <tbody>\n",
       "    <tr>\n",
       "      <th>Injured</th>\n",
       "      <td>3926</td>\n",
       "      <td>2360</td>\n",
       "    </tr>\n",
       "    <tr>\n",
       "      <th>Normal</th>\n",
       "      <td>34807</td>\n",
       "      <td>60565</td>\n",
       "    </tr>\n",
       "    <tr>\n",
       "      <th>Nursing</th>\n",
       "      <td>2368</td>\n",
       "      <td>1106</td>\n",
       "    </tr>\n",
       "    <tr>\n",
       "      <th>Other</th>\n",
       "      <td>424</td>\n",
       "      <td>441</td>\n",
       "    </tr>\n",
       "    <tr>\n",
       "      <th>Sick</th>\n",
       "      <td>3856</td>\n",
       "      <td>1073</td>\n",
       "    </tr>\n",
       "  </tbody>\n",
       "</table>\n",
       "</div>"
      ],
      "text/plain": [
       "                   Not Adopted  Adopted\n",
       "outcome_condition                      \n",
       "Injured                   3926     2360\n",
       "Normal                   34807    60565\n",
       "Nursing                   2368     1106\n",
       "Other                      424      441\n",
       "Sick                      3856     1073"
      ]
     },
     "execution_count": 22,
     "metadata": {},
     "output_type": "execute_result"
    }
   ],
   "source": [
    "observed\n"
   ]
  },
  {
   "cell_type": "code",
   "execution_count": 23,
   "metadata": {},
   "outputs": [
    {
     "name": "stdout",
     "output_type": "stream",
     "text": [
      "5884.740129936932\n"
     ]
    }
   ],
   "source": [
    "expected.index = ['Injured','Normal','Nursing','Other','Sick']\n",
    "chi_squared_stat = (((observed-expected)**2)/expected).sum().sum()\n",
    "print(chi_squared_stat)"
   ]
  },
  {
   "cell_type": "code",
   "execution_count": 29,
   "metadata": {},
   "outputs": [
    {
     "name": "stdout",
     "output_type": "stream",
     "text": [
      "Critical value: 9.487729036781154\n",
      "P value: 0.0\n"
     ]
    }
   ],
   "source": [
    "\n",
    "critical_value= scipy.stats.chi2.ppf(q = 0.95, # Find the critical value for 95% confidence*\n",
    "                      df = 4)   \n",
    " \n",
    "print(\"Critical value:\",critical_value)\n",
    "# degrees of freedom equal (26-1)*(2-1)\n",
    "p_value = 1 - scipy.stats.chi2.cdf(x=chi_squared_stat,  \n",
    "                             df=4)\n",
    "print(\"P value:\",p_value)"
   ]
  },
  {
   "cell_type": "markdown",
   "metadata": {},
   "source": [
    "There is a significant dependency between animal's health and its adoption rate since p<0.05"
   ]
  },
  {
   "cell_type": "code",
   "execution_count": 30,
   "metadata": {},
   "outputs": [],
   "source": [
    "result_2.to_csv('shelter_cleaned.csv',index=False)"
   ]
  },
  {
   "cell_type": "code",
   "execution_count": 31,
   "metadata": {},
   "outputs": [],
   "source": [
    "result_2 = pd.read_csv('shelter_cleaned.csv')"
   ]
  },
  {
   "attachments": {},
   "cell_type": "markdown",
   "metadata": {},
   "source": [
    "\n",
    "                    Q3: Does animal's reason for entering shelter have an impact on its adoption rate"
   ]
  },
  {
   "attachments": {},
   "cell_type": "markdown",
   "metadata": {},
   "source": [
    "Now we can verify whether the reason the animal ended up in a shelter has an impact on animals adoption chances.\n",
    "As we can see in the plot below, Stray animals make the majority of animal intakes in the shelter. Right behind it is an owner surrender and Public assist."
   ]
  },
  {
   "cell_type": "code",
   "execution_count": 32,
   "metadata": {},
   "outputs": [
    {
     "data": {
      "text/plain": [
       "<matplotlib.legend.Legend at 0x1a38b433c70>"
      ]
     },
     "execution_count": 32,
     "metadata": {},
     "output_type": "execute_result"
    },
    {
     "data": {
      "image/png": "[encoded data removed]",
      "text/plain": [
       "<Figure size 864x576 with 1 Axes>"
      ]
     },
     "metadata": {
      "needs_background": "light"
     },
     "output_type": "display_data"
    }
   ],
   "source": [
    "sns.set_palette(\"RdBu\", 6)\n",
    "plt.figure(figsize=(12,8))\n",
    "sns.countplot(data = result_2, y = 'income_type', hue = 'outcome_type')\n",
    "plt.ylabel('reason for entering shelter')\n",
    "plt.xticks(rotation=45)\n",
    "plt.xlabel('count')\n",
    "plt.title('Animal Income Type Countplot')\n",
    "plt.legend(['Not Adopted',\"Adopted\"],title=('adoption'))"
   ]
  },
  {
   "attachments": {},
   "cell_type": "markdown",
   "metadata": {},
   "source": [
    "Let's put Abandoned Euthanasia and Wildlife in the same category since there's not much variability there."
   ]
  },
  {
   "cell_type": "code",
   "execution_count": 33,
   "metadata": {},
   "outputs": [],
   "source": [
    "result_2['income_type'] = result_2['income_type'].map({'Abandoned':'Other','Euthanasia Request':'Other','Wildlife':'Other',\n",
    "'Public Assist':'Public Assist','Owner Surrender':'Owner Surrender','Stray':'Stray'})\n"
   ]
  },
  {
   "cell_type": "code",
   "execution_count": 34,
   "metadata": {},
   "outputs": [
    {
     "data": {
      "text/plain": [
       "<matplotlib.legend.Legend at 0x1a389ab6160>"
      ]
     },
     "execution_count": 34,
     "metadata": {},
     "output_type": "execute_result"
    },
    {
     "data": {
      "image/png": "[encoded data removed]",
      "text/plain": [
       "<Figure size 864x576 with 1 Axes>"
      ]
     },
     "metadata": {
      "needs_background": "light"
     },
     "output_type": "display_data"
    }
   ],
   "source": [
    "plt.figure(figsize=(12,8))\n",
    "sns.countplot(data = result_2, y = 'income_type', hue = 'outcome_type')\n",
    "plt.ylabel('reason for entering shelter')\n",
    "plt.title('Animal Income Type Countplot')\n",
    "plt.xticks(rotation=45)\n",
    "plt.xlabel('count')\n",
    "plt.legend(['Not Adopted',\"Adopted\"],title=('adoption'))"
   ]
  },
  {
   "attachments": {},
   "cell_type": "markdown",
   "metadata": {},
   "source": [
    "We Can now verify the relative difference between adopted and not adopted animals in each income type group."
   ]
  },
  {
   "cell_type": "code",
   "execution_count": 35,
   "metadata": {},
   "outputs": [
    {
     "data": {
      "text/html": [
       "<div>\n",
       "<style scoped>\n",
       "    .dataframe tbody tr th:only-of-type {\n",
       "        vertical-align: middle;\n",
       "    }\n",
       "\n",
       "    .dataframe tbody tr th {\n",
       "        vertical-align: top;\n",
       "    }\n",
       "\n",
       "    .dataframe thead th {\n",
       "        text-align: right;\n",
       "    }\n",
       "</style>\n",
       "<table border=\"1\" class=\"dataframe\">\n",
       "  <thead>\n",
       "    <tr style=\"text-align: right;\">\n",
       "      <th></th>\n",
       "      <th>Not Adopted</th>\n",
       "      <th>Adopted</th>\n",
       "      <th>income_type</th>\n",
       "      <th>sub_quantity</th>\n",
       "      <th>sum</th>\n",
       "    </tr>\n",
       "  </thead>\n",
       "  <tbody>\n",
       "    <tr>\n",
       "      <th>Other</th>\n",
       "      <td>5219</td>\n",
       "      <td>186</td>\n",
       "      <td>Other</td>\n",
       "      <td>-5033</td>\n",
       "      <td>5405</td>\n",
       "    </tr>\n",
       "    <tr>\n",
       "      <th>Owner Surrender</th>\n",
       "      <td>6901</td>\n",
       "      <td>13028</td>\n",
       "      <td>Owner Surrender</td>\n",
       "      <td>6127</td>\n",
       "      <td>19929</td>\n",
       "    </tr>\n",
       "    <tr>\n",
       "      <th>Public Assist</th>\n",
       "      <td>1415</td>\n",
       "      <td>4961</td>\n",
       "      <td>Public Assist</td>\n",
       "      <td>3546</td>\n",
       "      <td>6376</td>\n",
       "    </tr>\n",
       "    <tr>\n",
       "      <th>Stray</th>\n",
       "      <td>31846</td>\n",
       "      <td>47370</td>\n",
       "      <td>Stray</td>\n",
       "      <td>15524</td>\n",
       "      <td>79216</td>\n",
       "    </tr>\n",
       "  </tbody>\n",
       "</table>\n",
       "</div>"
      ],
      "text/plain": [
       "                 Not Adopted  Adopted      income_type  sub_quantity    sum\n",
       "Other                   5219      186            Other         -5033   5405\n",
       "Owner Surrender         6901    13028  Owner Surrender          6127  19929\n",
       "Public Assist           1415     4961    Public Assist          3546   6376\n",
       "Stray                  31846    47370            Stray         15524  79216"
      ]
     },
     "execution_count": 35,
     "metadata": {},
     "output_type": "execute_result"
    }
   ],
   "source": [
    "diff = result_2[['income_type','outcome_type']]\n",
    "diff = diff.groupby(['income_type','outcome_type'],as_index=False).size()\n",
    "\n",
    "dif = diff.pivot(index='income_type', columns='outcome_type', values = 'size')\n",
    "dif = dif.fillna(0)\n",
    "sum_ = dif[0.0]+dif[1.0]\n",
    "no = dif[0.0]\n",
    "dif_1 = dif[1.0].sub(dif[0.0],fill_value=0).reset_index(name='sub_quantity')\n",
    "\n",
    "dif_1.index = ['Other','Owner Surrender','Public Assist','Stray']\n",
    "no.index = ['Other','Owner Surrender','Public Assist','Stray']\n",
    "\n",
    "dif = pd.concat([dif,dif_1,sum_],axis=1)\n",
    "dif.columns = ['Not Adopted','Adopted','income_type','sub_quantity',  'sum']\n",
    "\n",
    "dif"
   ]
  },
  {
   "attachments": {},
   "cell_type": "markdown",
   "metadata": {},
   "source": [
    "Now we can see that animals in the Other category are 96 % more likely to  not get adopted. That's probably mostly because it consists of animals left for euthanasia, wildlife and abandoned animals. Second least popular category consists of stray animals who are getting adopted 50% more than not. Public assist animals have the best chances at getting adopted with 250% relative difference. "
   ]
  },
  {
   "cell_type": "code",
   "execution_count": 36,
   "metadata": {},
   "outputs": [
    {
     "data": {
      "text/plain": [
       "Text(0, 0.5, '[%]')"
      ]
     },
     "execution_count": 36,
     "metadata": {},
     "output_type": "execute_result"
    },
    {
     "data": {
      "image/png": "[encoded data removed]",
      "text/plain": [
       "<Figure size 864x576 with 1 Axes>"
      ]
     },
     "metadata": {
      "needs_background": "light"
     },
     "output_type": "display_data"
    }
   ],
   "source": [
    "plt.figure(figsize=(12,8))\n",
    "y = round(dif[\"sub_quantity\"]/dif['Not Adopted'],2).sort_values(ascending = True)\n",
    "y\n",
    "g = sns.barplot(data=dif, x=\"income_type\", y=round(dif[\"sub_quantity\"]/dif['Not Adopted']*100,2), order=y.index)\n",
    "plt.xticks(rotation=90)\n",
    "g.bar_label(g.containers[0])\n",
    "plt.title('Relative difference between Adopted and not Adopted animals per income type group')\n",
    "plt.xlabel('income type')\n",
    "plt.ylabel('[%]')"
   ]
  },
  {
   "attachments": {},
   "cell_type": "markdown",
   "metadata": {},
   "source": [
    "                        Q4: Does animal's type  have an impact on its adoption rate?"
   ]
  },
  {
   "attachments": {},
   "cell_type": "markdown",
   "metadata": {},
   "source": [
    "Now we can verify whether the animal type  has an impact on animals adoption chances. We'll include birds and livestock in the other category since we believe they all have small chances of adoption either way. As we can see below, dogs and cats make the biggest portion of shelter animals.\n"
   ]
  },
  {
   "cell_type": "code",
   "execution_count": 37,
   "metadata": {},
   "outputs": [
    {
     "data": {
      "text/plain": [
       "<matplotlib.legend.Legend at 0x1a38b58f100>"
      ]
     },
     "execution_count": 37,
     "metadata": {},
     "output_type": "execute_result"
    },
    {
     "data": {
      "image/png": "[encoded data removed]",
      "text/plain": [
       "<Figure size 864x576 with 1 Axes>"
      ]
     },
     "metadata": {
      "needs_background": "light"
     },
     "output_type": "display_data"
    }
   ],
   "source": [
    "\n",
    "sns.set_palette(\"RdBu\", 6)\n",
    "plt.figure(figsize=(12,8))\n",
    "sns.countplot(data = result_2, x = 'animal_type', hue = 'outcome_type')\n",
    "plt.xlabel('animal_type')\n",
    "plt.xticks(rotation=45)\n",
    "plt.ylabel('count')\n",
    "\n",
    "plt.title('Animal Type Countplot')\n",
    "plt.legend(['Not Adopted',\"Adopted\"],title=('adoption'))"
   ]
  },
  {
   "attachments": {},
   "cell_type": "markdown",
   "metadata": {},
   "source": [
    "Now let's map Birds and Livestock as Other and run the countplot again. We can already see that the chances that the cat will get adopted are around 50/50 and that dogs have better chances than that. The animals in the other category have almost no chances of adoption."
   ]
  },
  {
   "cell_type": "code",
   "execution_count": 38,
   "metadata": {},
   "outputs": [],
   "source": [
    "result_2['animal_type'] = result_2['animal_type'].map({'Dog':'Dog','Cat':'Cat','Other':'Other',\n",
    "'Bird':'Other','Livestock':'Other'})\n"
   ]
  },
  {
   "cell_type": "code",
   "execution_count": 39,
   "metadata": {},
   "outputs": [
    {
     "data": {
      "text/plain": [
       "<matplotlib.legend.Legend at 0x1a389d94040>"
      ]
     },
     "execution_count": 39,
     "metadata": {},
     "output_type": "execute_result"
    },
    {
     "data": {
      "image/png": "[encoded data removed]",
      "text/plain": [
       "<Figure size 864x576 with 1 Axes>"
      ]
     },
     "metadata": {
      "needs_background": "light"
     },
     "output_type": "display_data"
    }
   ],
   "source": [
    "sns.set_palette(\"RdBu\", 6)\n",
    "\n",
    "plt.figure(figsize=(12,8))\n",
    "sns.countplot(data = result_2, x = 'animal_type', hue = 'outcome_type')\n",
    "plt.xlabel('animal_type')\n",
    "plt.xticks(rotation=45)\n",
    "plt.ylabel('count')\n",
    "plt.xlabel('Animal Type')\n",
    "plt.title('Animal Type Countplot')\n",
    "plt.legend(['Not Adopted',\"Adopted\"],title=('Adoption'))"
   ]
  },
  {
   "attachments": {},
   "cell_type": "markdown",
   "metadata": {},
   "source": [
    "Let's check the relative difference for each group."
   ]
  },
  {
   "cell_type": "code",
   "execution_count": 40,
   "metadata": {},
   "outputs": [
    {
     "data": {
      "text/html": [
       "<div>\n",
       "<style scoped>\n",
       "    .dataframe tbody tr th:only-of-type {\n",
       "        vertical-align: middle;\n",
       "    }\n",
       "\n",
       "    .dataframe tbody tr th {\n",
       "        vertical-align: top;\n",
       "    }\n",
       "\n",
       "    .dataframe thead th {\n",
       "        text-align: right;\n",
       "    }\n",
       "</style>\n",
       "<table border=\"1\" class=\"dataframe\">\n",
       "  <thead>\n",
       "    <tr style=\"text-align: right;\">\n",
       "      <th></th>\n",
       "      <th>Not Adopted</th>\n",
       "      <th>Adopted</th>\n",
       "      <th>animal_type</th>\n",
       "      <th>sub_quantity</th>\n",
       "      <th>sum</th>\n",
       "    </tr>\n",
       "  </thead>\n",
       "  <tbody>\n",
       "    <tr>\n",
       "      <th>Cat</th>\n",
       "      <td>22561</td>\n",
       "      <td>21771</td>\n",
       "      <td>Cat</td>\n",
       "      <td>-790</td>\n",
       "      <td>44332</td>\n",
       "    </tr>\n",
       "    <tr>\n",
       "      <th>Dog</th>\n",
       "      <td>16426</td>\n",
       "      <td>42978</td>\n",
       "      <td>Dog</td>\n",
       "      <td>26552</td>\n",
       "      <td>59404</td>\n",
       "    </tr>\n",
       "    <tr>\n",
       "      <th>Other</th>\n",
       "      <td>6394</td>\n",
       "      <td>796</td>\n",
       "      <td>Other</td>\n",
       "      <td>-5598</td>\n",
       "      <td>7190</td>\n",
       "    </tr>\n",
       "  </tbody>\n",
       "</table>\n",
       "</div>"
      ],
      "text/plain": [
       "       Not Adopted  Adopted animal_type  sub_quantity    sum\n",
       "Cat          22561    21771         Cat          -790  44332\n",
       "Dog          16426    42978         Dog         26552  59404\n",
       "Other         6394      796       Other         -5598   7190"
      ]
     },
     "execution_count": 40,
     "metadata": {},
     "output_type": "execute_result"
    }
   ],
   "source": [
    "diff = result_2[['animal_type','outcome_type']]\n",
    "diff = diff.groupby(['animal_type','outcome_type'],as_index=False).size()\n",
    "\n",
    "dif = diff.pivot(index='animal_type', columns='outcome_type', values = 'size')\n",
    "dif = dif.fillna(0)\n",
    "sum_ = dif[0.0]+dif[1.0]\n",
    "no = dif[0.0]\n",
    "dif_1 = dif[1.0].sub(dif[0.0],fill_value=0).reset_index(name='sub_quantity')\n",
    "\n",
    "dif_1.index = ['Cat','Dog','Other']\n",
    "no.index = ['Cat','Dog','Other']\n",
    "\n",
    "dif = pd.concat([dif,dif_1,sum_],axis=1)\n",
    "dif.columns = ['Not Adopted','Adopted','animal_type','sub_quantity',  'sum']\n",
    "\n",
    "dif"
   ]
  },
  {
   "attachments": {},
   "cell_type": "markdown",
   "metadata": {},
   "source": [
    "As we can see below, dogs are in the best situation for adoption with 161% more adopted dogs than not adopted in the researched period of time. As for cats it's pretty much 50/50 chance for them. When we look at the other animals, as we predicted, they are in the worst situation since there's 87% more not adopted animals than adopted."
   ]
  },
  {
   "cell_type": "code",
   "execution_count": 41,
   "metadata": {},
   "outputs": [
    {
     "data": {
      "text/plain": [
       "Text(0, 0.5, 'relative difference [%]')"
      ]
     },
     "execution_count": 41,
     "metadata": {},
     "output_type": "execute_result"
    },
    {
     "data": {
      "image/png": "[encoded data removed]",
      "text/plain": [
       "<Figure size 864x576 with 1 Axes>"
      ]
     },
     "metadata": {
      "needs_background": "light"
     },
     "output_type": "display_data"
    }
   ],
   "source": [
    "plt.figure(figsize=(12,8))\n",
    "y = round(dif[\"sub_quantity\"]/dif['Not Adopted'],2).sort_values(ascending = True)\n",
    "y\n",
    "g = sns.barplot(data=dif, x=\"animal_type\", y=round(dif[\"sub_quantity\"]/dif['Not Adopted']*100,2), order=y.index)\n",
    "plt.xticks(rotation=90)\n",
    "g.bar_label(g.containers[0])\n",
    "plt.title('Relative difference between Adopted and not Adopted animals per type group')\n",
    "plt.xlabel('type')\n",
    "plt.ylabel('relative difference [%]')"
   ]
  },
  {
   "attachments": {},
   "cell_type": "markdown",
   "metadata": {},
   "source": [
    "                Q5: Is there a difference between adoption rate of spayed and unspayed females? "
   ]
  },
  {
   "attachments": {},
   "cell_type": "markdown",
   "metadata": {},
   "source": [
    "To answer this question let's take a look at the countplot of spayed and intact female animals. From the plot below we can already conclude that more intact females come to the shelter than spayed ones which makes a lot of sense. People who invest in spaying their animals are probably less inclined to give them up for adoption. As for the difference between adoption rate for spayed and intact females, it is not clear by looking at the plot so let's verify it by looking at relaive difference for each group."
   ]
  },
  {
   "cell_type": "code",
   "execution_count": 43,
   "metadata": {},
   "outputs": [
    {
     "data": {
      "text/plain": [
       "<matplotlib.legend.Legend at 0x1a388ad06a0>"
      ]
     },
     "execution_count": 43,
     "metadata": {},
     "output_type": "execute_result"
    },
    {
     "data": {
      "image/png": "[encoded data removed]",
      "text/plain": [
       "<Figure size 864x576 with 1 Axes>"
      ]
     },
     "metadata": {
      "needs_background": "light"
     },
     "output_type": "display_data"
    }
   ],
   "source": [
    "order= ['Spayed Female', 'Intact Female']\n",
    "plt.figure(figsize=(12,8))\n",
    "sns.countplot(data = result_2, x = 'sex_upon_outcome', hue = 'outcome_type', order=order)\n",
    "plt.xlabel('sterilization status')\n",
    "plt.xticks(rotation=45)\n",
    "plt.ylabel('count')\n",
    "plt.legend(['Not Adopted',\"Adopted\"],title=('adoption'))"
   ]
  },
  {
   "cell_type": "code",
   "execution_count": 44,
   "metadata": {},
   "outputs": [
    {
     "data": {
      "text/html": [
       "<div>\n",
       "<style scoped>\n",
       "    .dataframe tbody tr th:only-of-type {\n",
       "        vertical-align: middle;\n",
       "    }\n",
       "\n",
       "    .dataframe tbody tr th {\n",
       "        vertical-align: top;\n",
       "    }\n",
       "\n",
       "    .dataframe thead th {\n",
       "        text-align: right;\n",
       "    }\n",
       "</style>\n",
       "<table border=\"1\" class=\"dataframe\">\n",
       "  <thead>\n",
       "    <tr style=\"text-align: right;\">\n",
       "      <th></th>\n",
       "      <th>Not Adopted</th>\n",
       "      <th>Adopted</th>\n",
       "      <th>sex_upon_outcome</th>\n",
       "      <th>sub_quantity</th>\n",
       "      <th>sum</th>\n",
       "    </tr>\n",
       "  </thead>\n",
       "  <tbody>\n",
       "    <tr>\n",
       "      <th>Intact Female</th>\n",
       "      <td>14500</td>\n",
       "      <td>21658</td>\n",
       "      <td>Intact Female</td>\n",
       "      <td>7158</td>\n",
       "      <td>36158</td>\n",
       "    </tr>\n",
       "    <tr>\n",
       "      <th>Intact Male</th>\n",
       "      <td>14311</td>\n",
       "      <td>23303</td>\n",
       "      <td>Intact Male</td>\n",
       "      <td>8992</td>\n",
       "      <td>37614</td>\n",
       "    </tr>\n",
       "    <tr>\n",
       "      <th>Neutered Male</th>\n",
       "      <td>3679</td>\n",
       "      <td>10731</td>\n",
       "      <td>Neutered Male</td>\n",
       "      <td>7052</td>\n",
       "      <td>14410</td>\n",
       "    </tr>\n",
       "    <tr>\n",
       "      <th>Spayed Female</th>\n",
       "      <td>2991</td>\n",
       "      <td>9533</td>\n",
       "      <td>Spayed Female</td>\n",
       "      <td>6542</td>\n",
       "      <td>12524</td>\n",
       "    </tr>\n",
       "  </tbody>\n",
       "</table>\n",
       "</div>"
      ],
      "text/plain": [
       "               Not Adopted  Adopted sex_upon_outcome  sub_quantity    sum\n",
       "Intact Female        14500    21658    Intact Female          7158  36158\n",
       "Intact Male          14311    23303      Intact Male          8992  37614\n",
       "Neutered Male         3679    10731    Neutered Male          7052  14410\n",
       "Spayed Female         2991     9533    Spayed Female          6542  12524"
      ]
     },
     "execution_count": 44,
     "metadata": {},
     "output_type": "execute_result"
    }
   ],
   "source": [
    "diff = result_2[['sex_upon_outcome','outcome_type']]\n",
    "diff = diff.groupby(['sex_upon_outcome','outcome_type'],as_index=False).size()\n",
    "\n",
    "dif = diff.pivot(index='sex_upon_outcome', columns='outcome_type', values = 'size')\n",
    "dif = dif.fillna(0)\n",
    "sum_ = dif[0.0]+dif[1.0]\n",
    "no = dif[0.0]\n",
    "dif_1 = dif[1.0].sub(dif[0.0],fill_value=0).reset_index(name='sub_quantity')\n",
    "\n",
    "dif_1.index = [ 'Intact Female','Intact Male','Neutered Male','Spayed Female']\n",
    "no.index = ['Intact Female','Intact Male','Neutered Male','Spayed Female']\n",
    "\n",
    "dif = pd.concat([dif,dif_1,sum_],axis=1)\n",
    "dif.columns = ['Not Adopted','Adopted','sex_upon_outcome','sub_quantity',  'sum']\n",
    "\n",
    "dif"
   ]
  },
  {
   "attachments": {},
   "cell_type": "markdown",
   "metadata": {},
   "source": [
    "We can see below that there are 218% more adopted than not adopted spayed females. The difference is a lot less apparent in intact females where there's  only 49% difference. We can conclude from that that people are more likely to adopt an animal that has been spayed."
   ]
  },
  {
   "cell_type": "code",
   "execution_count": 46,
   "metadata": {},
   "outputs": [
    {
     "data": {
      "text/plain": [
       "Text(0, 0.5, 'relative difference [%]')"
      ]
     },
     "execution_count": 46,
     "metadata": {},
     "output_type": "execute_result"
    },
    {
     "data": {
      "image/png": "[encoded data removed]",
      "text/plain": [
       "<Figure size 864x576 with 1 Axes>"
      ]
     },
     "metadata": {
      "needs_background": "light"
     },
     "output_type": "display_data"
    }
   ],
   "source": [
    "plt.figure(figsize=(12,8))\n",
    "y = round(dif[\"sub_quantity\"]/dif['Not Adopted'],2).sort_values(ascending = True)\n",
    "y\n",
    "g = sns.barplot(data=dif, x=\"sex_upon_outcome\", y=round(dif[\"sub_quantity\"]/dif['Not Adopted']*100,2), order=order)\n",
    "plt.xticks(rotation=90)\n",
    "g.bar_label(g.containers[0])\n",
    "plt.title('Relative difference between Adopted and not Adopted animals in spayed females')\n",
    "plt.xlabel('type')\n",
    "plt.ylabel('relative difference [%]')"
   ]
  },
  {
   "attachments": {},
   "cell_type": "markdown",
   "metadata": {},
   "source": [
    "                Q6: Is there a difference between adoption rate of neutered and not neutered males?"
   ]
  },
  {
   "attachments": {},
   "cell_type": "markdown",
   "metadata": {},
   "source": [
    " Now let's go ahead check the males. Looking at the plot below, we can again conlude that intact males make a majority of the animals in the shelter."
   ]
  },
  {
   "cell_type": "code",
   "execution_count": 48,
   "metadata": {},
   "outputs": [
    {
     "data": {
      "text/plain": [
       "<matplotlib.legend.Legend at 0x1a389053c70>"
      ]
     },
     "execution_count": 48,
     "metadata": {},
     "output_type": "execute_result"
    },
    {
     "data": {
      "image/png": "[encoded data removed]",
      "text/plain": [
       "<Figure size 864x576 with 1 Axes>"
      ]
     },
     "metadata": {
      "needs_background": "light"
     },
     "output_type": "display_data"
    }
   ],
   "source": [
    "order= ['Neutered Male', 'Intact Male']\n",
    "plt.figure(figsize=(12,8))\n",
    "sns.countplot(data = result_2, x = 'sex_upon_outcome', hue = 'outcome_type', order=order)\n",
    "plt.xlabel('Neutralisation status')\n",
    "plt.xticks(rotation=45)\n",
    "plt.ylabel('count')\n",
    "plt.legend(['Not Adopted',\"Adopted\"],title=('adoption'))"
   ]
  },
  {
   "attachments": {},
   "cell_type": "markdown",
   "metadata": {},
   "source": [
    "                Q7: Is there a difference between males and females when it comes to adoption rate?"
   ]
  },
  {
   "attachments": {},
   "cell_type": "markdown",
   "metadata": {},
   "source": [
    "As we can see below there's 191% more adopted neutered males than not adopted. When we compare that percentage with 218% in spayed females we can conclude that when it comes to sex and adoption, it is more important for people for female animals to be spayed than for male animals to be neutered. Looking at the percentages for intact male and females we can deduct that it's less of a problem for people when a male animal is intact (there's 62 % more adopted than not adopted in this category) than when a female animal is intact (there's 49 % more adopted than not adopted in this category). "
   ]
  },
  {
   "cell_type": "code",
   "execution_count": 51,
   "metadata": {},
   "outputs": [
    {
     "data": {
      "text/plain": [
       "Text(0, 0.5, 'relative difference [%]')"
      ]
     },
     "execution_count": 51,
     "metadata": {},
     "output_type": "execute_result"
    },
    {
     "data": {
      "image/png": "[encoded data removed]",
      "text/plain": [
       "<Figure size 864x576 with 1 Axes>"
      ]
     },
     "metadata": {
      "needs_background": "light"
     },
     "output_type": "display_data"
    }
   ],
   "source": [
    "plt.figure(figsize=(12,8))\n",
    "y = round(dif[\"sub_quantity\"]/dif['Not Adopted'],2).sort_values(ascending = True)\n",
    "y\n",
    "g = sns.barplot(data=dif, x=\"sex_upon_outcome\", y=round(dif[\"sub_quantity\"]/dif['Not Adopted']*100,2), order=order)\n",
    "plt.xticks(rotation=90)\n",
    "g.bar_label(g.containers[0])\n",
    "plt.title('Relative difference between Adopted and not Adopted animals in neutered males')\n",
    "plt.xlabel('type')\n",
    "plt.ylabel('relative difference [%]')"
   ]
  },
  {
   "attachments": {},
   "cell_type": "markdown",
   "metadata": {},
   "source": [
    "                    Q7: Does the color of an animal affect its adoption chances?\n",
    "\n"
   ]
  },
  {
   "attachments": {},
   "cell_type": "markdown",
   "metadata": {},
   "source": [
    "To do answer this question, let's take into consideration only 10 most popular colors. As we can see the most popular colour is a mix of Black and White (22%) followed by pure black (18%) and Brown Tabby (13%)"
   ]
  },
  {
   "cell_type": "code",
   "execution_count": 74,
   "metadata": {},
   "outputs": [
    {
     "data": {
      "image/png": "[encoded data removed]",
      "text/plain": [
       "<Figure size 432x288 with 1 Axes>"
      ]
     },
     "metadata": {},
     "output_type": "display_data"
    }
   ],
   "source": [
    "fig1, ax1 = plt.subplots()\n",
    "s = result_2['color'].value_counts().iloc[:10]\n",
    "\n",
    "patches, texts, autotexts = ax1.pie(s, labels = s.index,shadow=True,   autopct='%.0f%%')\n",
    "\n",
    "for autotext in autotexts:\n",
    "    autotext.set_color('black')\n",
    "ax1.axis('equal')\n",
    "plt.tight_layout()\n",
    "plt.show()"
   ]
  },
  {
   "attachments": {},
   "cell_type": "markdown",
   "metadata": {},
   "source": [
    "Let's check the relative difference in adoption for each of these colors."
   ]
  },
  {
   "cell_type": "code",
   "execution_count": 53,
   "metadata": {},
   "outputs": [
    {
     "data": {
      "text/html": [
       "<div>\n",
       "<style scoped>\n",
       "    .dataframe tbody tr th:only-of-type {\n",
       "        vertical-align: middle;\n",
       "    }\n",
       "\n",
       "    .dataframe tbody tr th {\n",
       "        vertical-align: top;\n",
       "    }\n",
       "\n",
       "    .dataframe thead th {\n",
       "        text-align: right;\n",
       "    }\n",
       "</style>\n",
       "<table border=\"1\" class=\"dataframe\">\n",
       "  <thead>\n",
       "    <tr style=\"text-align: right;\">\n",
       "      <th></th>\n",
       "      <th>Not Adopted</th>\n",
       "      <th>Adopted</th>\n",
       "      <th>sex_upon_outcome</th>\n",
       "      <th>sub_quantity</th>\n",
       "      <th>sum</th>\n",
       "    </tr>\n",
       "  </thead>\n",
       "  <tbody>\n",
       "    <tr>\n",
       "      <th>Black/White</th>\n",
       "      <td>4319.0</td>\n",
       "      <td>7119.0</td>\n",
       "      <td>Black/White</td>\n",
       "      <td>2800.0</td>\n",
       "      <td>11438.0</td>\n",
       "    </tr>\n",
       "    <tr>\n",
       "      <th>Black</th>\n",
       "      <td>4583.0</td>\n",
       "      <td>5010.0</td>\n",
       "      <td>Black</td>\n",
       "      <td>427.0</td>\n",
       "      <td>9593.0</td>\n",
       "    </tr>\n",
       "    <tr>\n",
       "      <th>Brown Tabby</th>\n",
       "      <td>3554.0</td>\n",
       "      <td>3204.0</td>\n",
       "      <td>Brown Tabby</td>\n",
       "      <td>-350.0</td>\n",
       "      <td>6758.0</td>\n",
       "    </tr>\n",
       "    <tr>\n",
       "      <th>Brown</th>\n",
       "      <td>3313.0</td>\n",
       "      <td>1746.0</td>\n",
       "      <td>Brown</td>\n",
       "      <td>-1567.0</td>\n",
       "      <td>5059.0</td>\n",
       "    </tr>\n",
       "    <tr>\n",
       "      <th>White</th>\n",
       "      <td>1443.0</td>\n",
       "      <td>2425.0</td>\n",
       "      <td>White</td>\n",
       "      <td>982.0</td>\n",
       "      <td>3868.0</td>\n",
       "    </tr>\n",
       "    <tr>\n",
       "      <th>Brown/White</th>\n",
       "      <td>981.0</td>\n",
       "      <td>2451.0</td>\n",
       "      <td>Brown/White</td>\n",
       "      <td>1470.0</td>\n",
       "      <td>3432.0</td>\n",
       "    </tr>\n",
       "    <tr>\n",
       "      <th>Brown Tabby/White</th>\n",
       "      <td>1687.0</td>\n",
       "      <td>1739.0</td>\n",
       "      <td>Brown Tabby/White</td>\n",
       "      <td>52.0</td>\n",
       "      <td>3426.0</td>\n",
       "    </tr>\n",
       "    <tr>\n",
       "      <th>Orange Tabby</th>\n",
       "      <td>1726.0</td>\n",
       "      <td>1551.0</td>\n",
       "      <td>Orange Tabby</td>\n",
       "      <td>-175.0</td>\n",
       "      <td>3277.0</td>\n",
       "    </tr>\n",
       "    <tr>\n",
       "      <th>Tan/White</th>\n",
       "      <td>889.0</td>\n",
       "      <td>2256.0</td>\n",
       "      <td>Tan/White</td>\n",
       "      <td>1367.0</td>\n",
       "      <td>3145.0</td>\n",
       "    </tr>\n",
       "    <tr>\n",
       "      <th>White/Black</th>\n",
       "      <td>1081.0</td>\n",
       "      <td>1886.0</td>\n",
       "      <td>White/Black</td>\n",
       "      <td>805.0</td>\n",
       "      <td>2967.0</td>\n",
       "    </tr>\n",
       "  </tbody>\n",
       "</table>\n",
       "</div>"
      ],
      "text/plain": [
       "                   Not Adopted  Adopted   sex_upon_outcome  sub_quantity  \\\n",
       "Black/White             4319.0   7119.0        Black/White        2800.0   \n",
       "Black                   4583.0   5010.0              Black         427.0   \n",
       "Brown Tabby             3554.0   3204.0        Brown Tabby        -350.0   \n",
       "Brown                   3313.0   1746.0              Brown       -1567.0   \n",
       "White                   1443.0   2425.0              White         982.0   \n",
       "Brown/White              981.0   2451.0        Brown/White        1470.0   \n",
       "Brown Tabby/White       1687.0   1739.0  Brown Tabby/White          52.0   \n",
       "Orange Tabby            1726.0   1551.0       Orange Tabby        -175.0   \n",
       "Tan/White                889.0   2256.0          Tan/White        1367.0   \n",
       "White/Black             1081.0   1886.0        White/Black         805.0   \n",
       "\n",
       "                       sum  \n",
       "Black/White        11438.0  \n",
       "Black               9593.0  \n",
       "Brown Tabby         6758.0  \n",
       "Brown               5059.0  \n",
       "White               3868.0  \n",
       "Brown/White         3432.0  \n",
       "Brown Tabby/White   3426.0  \n",
       "Orange Tabby        3277.0  \n",
       "Tan/White           3145.0  \n",
       "White/Black         2967.0  "
      ]
     },
     "execution_count": 53,
     "metadata": {},
     "output_type": "execute_result"
    }
   ],
   "source": [
    "diff = result_2[['color','outcome_type']]\n",
    "diff = diff.groupby(['color','outcome_type'],as_index=False).size()\n",
    "\n",
    "dif = diff.pivot(index='color', columns='outcome_type', values = 'size')\n",
    "dif = dif.fillna(0)\n",
    "sum_ = dif[0.0]+dif[1.0]\n",
    "no = dif[0.0]\n",
    "dif_1 = dif[1.0].sub(dif[0.0],fill_value=0).reset_index(name='sub_quantity')\n",
    "\n",
    "dif_1.index = diff.color.unique()\n",
    "no.index = diff.color.unique()\n",
    "\n",
    "dif = pd.concat([dif,dif_1,sum_],axis=1)\n",
    "dif.columns = ['Not Adopted','Adopted','sex_upon_outcome','sub_quantity',  'sum']\n",
    "dif = dif.sort_values(by=['sum'],ascending=False).iloc[:10]\n",
    "dif\n"
   ]
  },
  {
   "attachments": {},
   "cell_type": "markdown",
   "metadata": {},
   "source": [
    "As we can see below, the most popular colours for adoptions are tan/white with 153% more adopted animals than not adopted in this group. The least popular animal colour seems to be brown with 47% more not adopted animals than adopted. As we could see below, brown tabby is the third most common colour/pattern. This might be the reason why it's not that popular among adoption prospects. On top of that, our assumption would be that tabby animals (usually cats) are considered to be mixed or 'not pure' breed which leads people to adopt animals of one color which are considered pure breed."
   ]
  },
  {
   "cell_type": "code",
   "execution_count": 55,
   "metadata": {},
   "outputs": [
    {
     "data": {
      "text/plain": [
       "Text(0, 0.5, 'relative difference [%]')"
      ]
     },
     "execution_count": 55,
     "metadata": {},
     "output_type": "execute_result"
    },
    {
     "data": {
      "image/png": "[encoded data removed]",
      "text/plain": [
       "<Figure size 864x576 with 1 Axes>"
      ]
     },
     "metadata": {
      "needs_background": "light"
     },
     "output_type": "display_data"
    }
   ],
   "source": [
    "sns.set_palette(\"RdBu\", 10)\n",
    "plt.figure(figsize=(12,8))\n",
    "y = round(dif[\"sub_quantity\"]/dif['Not Adopted']*100,2).sort_values(ascending = True)\n",
    "y\n",
    "g = sns.barplot(data=dif, x=\"sex_upon_outcome\", y=y, order=y.index)\n",
    "plt.xticks(rotation=90)\n",
    "g.bar_label(g.containers[0])\n",
    "plt.title('Relative difference between Adopted and not Adopted animals for each colour')\n",
    "plt.xlabel('colour')\n",
    "plt.ylabel('relative difference [%]')"
   ]
  },
  {
   "attachments": {},
   "cell_type": "markdown",
   "metadata": {},
   "source": [
    "                            Q8: Does a  breed of an animal affects its adoption chances?\n"
   ]
  },
  {
   "attachments": {},
   "cell_type": "markdown",
   "metadata": {},
   "source": [
    "To answer this question, let's take into consideration only 10 most common breeds in the shelter. As we can see below, domestic shorthair mix (46%) and domestic shorthair (11%) are the most common breeds followed by pitbull mix (10%). Domestic animals make the biggest portion of the sum. These are the specimen that are so mixed, they don't resemble any of the common races. This definition makes it easy to understand why they are the majority in the shelter. These are usually animals born on the streets concieved by other domestic dogs."
   ]
  },
  {
   "cell_type": "code",
   "execution_count": 76,
   "metadata": {},
   "outputs": [
    {
     "data": {
      "image/png": "[encoded data removed]",
      "text/plain": [
       "<Figure size 432x288 with 1 Axes>"
      ]
     },
     "metadata": {},
     "output_type": "display_data"
    }
   ],
   "source": [
    "\n",
    "fig1, ax1 = plt.subplots()\n",
    "s = result_2['breed'].value_counts().iloc[:10]\n",
    "\n",
    "patches, texts, autotexts = ax1.pie(s, labels = s.index,shadow=True,   autopct='%.0f%%')\n",
    "\n",
    "for autotext in autotexts:\n",
    "    autotext.set_color('black')\n",
    "ax1.axis('equal')\n",
    "plt.tight_layout()\n",
    "plt.show()"
   ]
  },
  {
   "attachments": {},
   "cell_type": "markdown",
   "metadata": {},
   "source": [
    "As we can see below, domestic animals might have lower chances for adoption as the differences between adopted and not adopted animals are almost nonexistent."
   ]
  },
  {
   "cell_type": "code",
   "execution_count": 64,
   "metadata": {},
   "outputs": [
    {
     "data": {
      "text/plain": [
       "<matplotlib.legend.Legend at 0x1a38f8c7af0>"
      ]
     },
     "execution_count": 64,
     "metadata": {},
     "output_type": "execute_result"
    },
    {
     "data": {
      "image/png": "[encoded data removed]",
      "text/plain": [
       "<Figure size 864x576 with 1 Axes>"
      ]
     },
     "metadata": {
      "needs_background": "light"
     },
     "output_type": "display_data"
    }
   ],
   "source": [
    "plt.figure(figsize=(12,8))\n",
    "sns.set_palette(\"RdBu\", 8)\n",
    "chart = sns.countplot(data = result_2, x = 'breed', order=pd.value_counts(result_2['breed']).iloc[:10].index, hue= 'outcome_type')\n",
    "plt.xticks(rotation=90)\n",
    "plt.legend(['Not Adopted',\"Adopted\"],title=('Adoption'))"
   ]
  },
  {
   "attachments": {},
   "cell_type": "markdown",
   "metadata": {},
   "source": [
    "Let's verify above hypotheses by plotting relative difference in adopton for each breed."
   ]
  },
  {
   "cell_type": "code",
   "execution_count": 66,
   "metadata": {},
   "outputs": [
    {
     "data": {
      "text/html": [
       "<div>\n",
       "<style scoped>\n",
       "    .dataframe tbody tr th:only-of-type {\n",
       "        vertical-align: middle;\n",
       "    }\n",
       "\n",
       "    .dataframe tbody tr th {\n",
       "        vertical-align: top;\n",
       "    }\n",
       "\n",
       "    .dataframe thead th {\n",
       "        text-align: right;\n",
       "    }\n",
       "</style>\n",
       "<table border=\"1\" class=\"dataframe\">\n",
       "  <thead>\n",
       "    <tr style=\"text-align: right;\">\n",
       "      <th></th>\n",
       "      <th>Not Adopted</th>\n",
       "      <th>Adopted</th>\n",
       "      <th>sex_upon_outcome</th>\n",
       "      <th>sub_quantity</th>\n",
       "      <th>sum</th>\n",
       "    </tr>\n",
       "  </thead>\n",
       "  <tbody>\n",
       "    <tr>\n",
       "      <th>Domestic Shorthair Mix</th>\n",
       "      <td>15495.0</td>\n",
       "      <td>14011.0</td>\n",
       "      <td>Domestic Shorthair Mix</td>\n",
       "      <td>-1484.0</td>\n",
       "      <td>29506.0</td>\n",
       "    </tr>\n",
       "    <tr>\n",
       "      <th>Domestic Shorthair</th>\n",
       "      <td>3410.0</td>\n",
       "      <td>3386.0</td>\n",
       "      <td>Domestic Shorthair</td>\n",
       "      <td>-24.0</td>\n",
       "      <td>6796.0</td>\n",
       "    </tr>\n",
       "    <tr>\n",
       "      <th>Pit Bull Mix</th>\n",
       "      <td>1966.0</td>\n",
       "      <td>4476.0</td>\n",
       "      <td>Pit Bull Mix</td>\n",
       "      <td>2510.0</td>\n",
       "      <td>6442.0</td>\n",
       "    </tr>\n",
       "    <tr>\n",
       "      <th>Labrador Retriever Mix</th>\n",
       "      <td>1495.0</td>\n",
       "      <td>4276.0</td>\n",
       "      <td>Labrador Retriever Mix</td>\n",
       "      <td>2781.0</td>\n",
       "      <td>5771.0</td>\n",
       "    </tr>\n",
       "    <tr>\n",
       "      <th>Chihuahua Shorthair Mix</th>\n",
       "      <td>1674.0</td>\n",
       "      <td>3904.0</td>\n",
       "      <td>Chihuahua Shorthair Mix</td>\n",
       "      <td>2230.0</td>\n",
       "      <td>5578.0</td>\n",
       "    </tr>\n",
       "    <tr>\n",
       "      <th>Domestic Medium Hair Mix</th>\n",
       "      <td>1450.0</td>\n",
       "      <td>1514.0</td>\n",
       "      <td>Domestic Medium Hair Mix</td>\n",
       "      <td>64.0</td>\n",
       "      <td>2964.0</td>\n",
       "    </tr>\n",
       "    <tr>\n",
       "      <th>German Shepherd Mix</th>\n",
       "      <td>583.0</td>\n",
       "      <td>1914.0</td>\n",
       "      <td>German Shepherd Mix</td>\n",
       "      <td>1331.0</td>\n",
       "      <td>2497.0</td>\n",
       "    </tr>\n",
       "    <tr>\n",
       "      <th>Bat Mix</th>\n",
       "      <td>1754.0</td>\n",
       "      <td>0.0</td>\n",
       "      <td>Bat Mix</td>\n",
       "      <td>-1754.0</td>\n",
       "      <td>1754.0</td>\n",
       "    </tr>\n",
       "    <tr>\n",
       "      <th>Bat</th>\n",
       "      <td>1485.0</td>\n",
       "      <td>0.0</td>\n",
       "      <td>Bat</td>\n",
       "      <td>-1485.0</td>\n",
       "      <td>1485.0</td>\n",
       "    </tr>\n",
       "    <tr>\n",
       "      <th>Domestic Longhair Mix</th>\n",
       "      <td>647.0</td>\n",
       "      <td>809.0</td>\n",
       "      <td>Domestic Longhair Mix</td>\n",
       "      <td>162.0</td>\n",
       "      <td>1456.0</td>\n",
       "    </tr>\n",
       "  </tbody>\n",
       "</table>\n",
       "</div>"
      ],
      "text/plain": [
       "                          Not Adopted  Adopted          sex_upon_outcome  \\\n",
       "Domestic Shorthair Mix        15495.0  14011.0    Domestic Shorthair Mix   \n",
       "Domestic Shorthair             3410.0   3386.0        Domestic Shorthair   \n",
       "Pit Bull Mix                   1966.0   4476.0              Pit Bull Mix   \n",
       "Labrador Retriever Mix         1495.0   4276.0    Labrador Retriever Mix   \n",
       "Chihuahua Shorthair Mix        1674.0   3904.0   Chihuahua Shorthair Mix   \n",
       "Domestic Medium Hair Mix       1450.0   1514.0  Domestic Medium Hair Mix   \n",
       "German Shepherd Mix             583.0   1914.0       German Shepherd Mix   \n",
       "Bat Mix                        1754.0      0.0                   Bat Mix   \n",
       "Bat                            1485.0      0.0                       Bat   \n",
       "Domestic Longhair Mix           647.0    809.0     Domestic Longhair Mix   \n",
       "\n",
       "                          sub_quantity      sum  \n",
       "Domestic Shorthair Mix         -1484.0  29506.0  \n",
       "Domestic Shorthair               -24.0   6796.0  \n",
       "Pit Bull Mix                    2510.0   6442.0  \n",
       "Labrador Retriever Mix          2781.0   5771.0  \n",
       "Chihuahua Shorthair Mix         2230.0   5578.0  \n",
       "Domestic Medium Hair Mix          64.0   2964.0  \n",
       "German Shepherd Mix             1331.0   2497.0  \n",
       "Bat Mix                        -1754.0   1754.0  \n",
       "Bat                            -1485.0   1485.0  \n",
       "Domestic Longhair Mix            162.0   1456.0  "
      ]
     },
     "execution_count": 66,
     "metadata": {},
     "output_type": "execute_result"
    }
   ],
   "source": [
    "diff = result_2[['breed','outcome_type']]\n",
    "diff = diff.groupby(['breed','outcome_type'],as_index=False).size()\n",
    "\n",
    "dif = diff.pivot(index='breed', columns='outcome_type', values = 'size')\n",
    "dif = dif.fillna(0)\n",
    "sum_ = dif[0.0]+dif[1.0]\n",
    "no = dif[0.0]\n",
    "dif_1 = dif[1.0].sub(dif[0.0],fill_value=0).reset_index(name='sub_quantity')\n",
    "\n",
    "dif_1.index = diff.breed.unique()\n",
    "no.index = diff.breed.unique()\n",
    "\n",
    "dif = pd.concat([dif,dif_1,sum_],axis=1)\n",
    "dif.columns = ['Not Adopted','Adopted','sex_upon_outcome','sub_quantity',  'sum']\n",
    "dif = dif.sort_values(by=['sum'],ascending=False).iloc[:10]\n",
    "dif"
   ]
  },
  {
   "attachments": {},
   "cell_type": "markdown",
   "metadata": {},
   "source": [
    "As we can see below we can confirm my previous assumption that domestic mix animals have the least chances of adoption (except for bats which have no chances). If an animal is mixed but resembles some popular breed it has high chances of adoption. In this case for example, there are 228% more adoptions among German Shepherd breed and 186% more adoptions in Labrador Retriever mix. "
   ]
  },
  {
   "cell_type": "code",
   "execution_count": 68,
   "metadata": {},
   "outputs": [
    {
     "data": {
      "text/plain": [
       "Text(0, 0.5, 'relative difference [%]')"
      ]
     },
     "execution_count": 68,
     "metadata": {},
     "output_type": "execute_result"
    },
    {
     "data": {
      "image/png": "[encoded data removed]",
      "text/plain": [
       "<Figure size 864x576 with 1 Axes>"
      ]
     },
     "metadata": {
      "needs_background": "light"
     },
     "output_type": "display_data"
    }
   ],
   "source": [
    "sns.set_palette(\"RdBu\", 10)\n",
    "plt.figure(figsize=(12,8))\n",
    "y = round(dif[\"sub_quantity\"]/dif['Not Adopted']*100,2).sort_values(ascending = True)\n",
    "y\n",
    "g = sns.barplot(data=dif, x=\"sex_upon_outcome\", y=y, order=y.index)\n",
    "plt.xticks(rotation=90)\n",
    "g.bar_label(g.containers[0])\n",
    "plt.title('Relative difference between Adopted and not Adopted animals for each colour')\n",
    "plt.xlabel('colour')\n",
    "plt.ylabel('relative difference [%]')"
   ]
  },
  {
   "attachments": {},
   "cell_type": "markdown",
   "metadata": {},
   "source": [
    "                Q9. Does the time spent in the shelter affect the adoption rate of the animals? "
   ]
  },
  {
   "attachments": {},
   "cell_type": "markdown",
   "metadata": {},
   "source": [
    "To answer this question, let's first create a new column named years_in_shelter by substracting age upon outcome from age upon intake columns."
   ]
  },
  {
   "cell_type": "code",
   "execution_count": 69,
   "metadata": {},
   "outputs": [],
   "source": [
    "result_2['years_in_shelter'] = result_2['age_upon_outcome'] - result_2['age_upon_intake']\n"
   ]
  },
  {
   "attachments": {},
   "cell_type": "markdown",
   "metadata": {},
   "source": [
    "Let's save this new dataframe to shelter_cleaned.csv"
   ]
  },
  {
   "cell_type": "code",
   "execution_count": 70,
   "metadata": {},
   "outputs": [],
   "source": [
    "result_2.to_csv('shelter_cleaned.csv')"
   ]
  },
  {
   "attachments": {},
   "cell_type": "markdown",
   "metadata": {},
   "source": [
    "Now, let's verify if the column did appear by printing the head of our table."
   ]
  },
  {
   "cell_type": "code",
   "execution_count": 71,
   "metadata": {},
   "outputs": [
    {
     "data": {
      "text/html": [
       "<div>\n",
       "<style scoped>\n",
       "    .dataframe tbody tr th:only-of-type {\n",
       "        vertical-align: middle;\n",
       "    }\n",
       "\n",
       "    .dataframe tbody tr th {\n",
       "        vertical-align: top;\n",
       "    }\n",
       "\n",
       "    .dataframe thead th {\n",
       "        text-align: right;\n",
       "    }\n",
       "</style>\n",
       "<table border=\"1\" class=\"dataframe\">\n",
       "  <thead>\n",
       "    <tr style=\"text-align: right;\">\n",
       "      <th></th>\n",
       "      <th>datetime</th>\n",
       "      <th>income_type</th>\n",
       "      <th>outcome_condition</th>\n",
       "      <th>animal_type</th>\n",
       "      <th>sex_upon_outcome</th>\n",
       "      <th>age_upon_intake</th>\n",
       "      <th>breed</th>\n",
       "      <th>color</th>\n",
       "      <th>datetime_outcome</th>\n",
       "      <th>date_of_birth</th>\n",
       "      <th>outcome_type</th>\n",
       "      <th>age_upon_outcome</th>\n",
       "      <th>years_in_shelter</th>\n",
       "    </tr>\n",
       "  </thead>\n",
       "  <tbody>\n",
       "    <tr>\n",
       "      <th>0</th>\n",
       "      <td>2019-01-03 16:19:00</td>\n",
       "      <td>Stray</td>\n",
       "      <td>Normal</td>\n",
       "      <td>Dog</td>\n",
       "      <td>Neutered Male</td>\n",
       "      <td>2</td>\n",
       "      <td>Beagle Mix</td>\n",
       "      <td>Tricolor</td>\n",
       "      <td>2019-01-08 15:11:00</td>\n",
       "      <td>2017-01-03 00:00:00</td>\n",
       "      <td>0</td>\n",
       "      <td>2</td>\n",
       "      <td>0</td>\n",
       "    </tr>\n",
       "    <tr>\n",
       "      <th>1</th>\n",
       "      <td>2015-07-05 12:59:00</td>\n",
       "      <td>Stray</td>\n",
       "      <td>Normal</td>\n",
       "      <td>Dog</td>\n",
       "      <td>Spayed Female</td>\n",
       "      <td>8</td>\n",
       "      <td>English Springer Spaniel</td>\n",
       "      <td>White/Liver</td>\n",
       "      <td>2015-07-05 15:13:00</td>\n",
       "      <td>2007-07-05 00:00:00</td>\n",
       "      <td>1</td>\n",
       "      <td>8</td>\n",
       "      <td>0</td>\n",
       "    </tr>\n",
       "    <tr>\n",
       "      <th>2</th>\n",
       "      <td>2016-04-14 18:43:00</td>\n",
       "      <td>Stray</td>\n",
       "      <td>Normal</td>\n",
       "      <td>Dog</td>\n",
       "      <td>Intact Male</td>\n",
       "      <td>0</td>\n",
       "      <td>Basenji Mix</td>\n",
       "      <td>Sable/White</td>\n",
       "      <td>2016-04-21 17:17:00</td>\n",
       "      <td>2015-04-17 00:00:00</td>\n",
       "      <td>1</td>\n",
       "      <td>1</td>\n",
       "      <td>1</td>\n",
       "    </tr>\n",
       "    <tr>\n",
       "      <th>3</th>\n",
       "      <td>2013-10-21 07:59:00</td>\n",
       "      <td>Stray</td>\n",
       "      <td>Sick</td>\n",
       "      <td>Cat</td>\n",
       "      <td>Intact Female</td>\n",
       "      <td>0</td>\n",
       "      <td>Domestic Shorthair Mix</td>\n",
       "      <td>Calico</td>\n",
       "      <td>2013-10-21 11:39:00</td>\n",
       "      <td>2013-09-21 00:00:00</td>\n",
       "      <td>0</td>\n",
       "      <td>0</td>\n",
       "      <td>0</td>\n",
       "    </tr>\n",
       "    <tr>\n",
       "      <th>4</th>\n",
       "      <td>2014-06-29 10:38:00</td>\n",
       "      <td>Stray</td>\n",
       "      <td>Normal</td>\n",
       "      <td>Dog</td>\n",
       "      <td>Neutered Male</td>\n",
       "      <td>4</td>\n",
       "      <td>Doberman Pinsch/Australian Cattle Dog</td>\n",
       "      <td>Tan/Gray</td>\n",
       "      <td>2014-07-02 14:16:00</td>\n",
       "      <td>2010-06-29 00:00:00</td>\n",
       "      <td>1</td>\n",
       "      <td>4</td>\n",
       "      <td>0</td>\n",
       "    </tr>\n",
       "  </tbody>\n",
       "</table>\n",
       "</div>"
      ],
      "text/plain": [
       "              datetime income_type outcome_condition animal_type  \\\n",
       "0  2019-01-03 16:19:00       Stray            Normal         Dog   \n",
       "1  2015-07-05 12:59:00       Stray            Normal         Dog   \n",
       "2  2016-04-14 18:43:00       Stray            Normal         Dog   \n",
       "3  2013-10-21 07:59:00       Stray              Sick         Cat   \n",
       "4  2014-06-29 10:38:00       Stray            Normal         Dog   \n",
       "\n",
       "  sex_upon_outcome  age_upon_intake                                  breed  \\\n",
       "0    Neutered Male                2                             Beagle Mix   \n",
       "1    Spayed Female                8               English Springer Spaniel   \n",
       "2      Intact Male                0                            Basenji Mix   \n",
       "3    Intact Female                0                 Domestic Shorthair Mix   \n",
       "4    Neutered Male                4  Doberman Pinsch/Australian Cattle Dog   \n",
       "\n",
       "         color     datetime_outcome        date_of_birth  outcome_type  \\\n",
       "0     Tricolor  2019-01-08 15:11:00  2017-01-03 00:00:00             0   \n",
       "1  White/Liver  2015-07-05 15:13:00  2007-07-05 00:00:00             1   \n",
       "2  Sable/White  2016-04-21 17:17:00  2015-04-17 00:00:00             1   \n",
       "3       Calico  2013-10-21 11:39:00  2013-09-21 00:00:00             0   \n",
       "4     Tan/Gray  2014-07-02 14:16:00  2010-06-29 00:00:00             1   \n",
       "\n",
       "   age_upon_outcome  years_in_shelter  \n",
       "0                 2                 0  \n",
       "1                 8                 0  \n",
       "2                 1                 1  \n",
       "3                 0                 0  \n",
       "4                 4                 0  "
      ]
     },
     "execution_count": 71,
     "metadata": {},
     "output_type": "execute_result"
    }
   ],
   "source": [
    "result_2.head()"
   ]
  },
  {
   "attachments": {},
   "cell_type": "markdown",
   "metadata": {},
   "source": [
    "We can verify the variability of animals' ages by printing a pie chart. As we can see below, most of the animals don't spend more than one year at the shelter so there's not enough variability to test this question. "
   ]
  },
  {
   "cell_type": "code",
   "execution_count": 77,
   "metadata": {},
   "outputs": [
    {
     "data": {
      "image/png": "[encoded data removed]",
      "text/plain": [
       "<Figure size 432x288 with 1 Axes>"
      ]
     },
     "metadata": {},
     "output_type": "display_data"
    }
   ],
   "source": [
    "\n",
    "fig1, ax1 = plt.subplots()\n",
    "s = result_2['years_in_shelter'].value_counts().iloc[:2]\n",
    "\n",
    "patches, texts, autotexts = ax1.pie(s, labels = s.index,shadow=True,   autopct='%.0f%%')\n",
    "\n",
    "for autotext in autotexts:\n",
    "    autotext.set_color('black')\n",
    "ax1.axis('equal')\n",
    "plt.tight_layout()\n",
    "plt.show()"
   ]
  },
  {
   "attachments": {},
   "cell_type": "markdown",
   "metadata": {},
   "source": [
    "                                            4. Inferences and Conclusions"
   ]
  },
  {
   "attachments": {},
   "cell_type": "markdown",
   "metadata": {},
   "source": [
    "* Does age affect animal's adoption rate?\n",
    "\n",
    "We can conclude that most of the animals do end up getting adopted no matter their age. Nevertheless, there are slight differences in their chances to do so. For example, animals aged 8 are less likely to get adopted than animals aged 7.  The same situation happens with ages 4 and 5, 14 and 15, 11 and 13. We can assume that the older the animal the smaller the chances of adoption.\n",
    "* Does animal's health condition upon entering shelter have an impact on its adoption rate?\n",
    "\n",
    "Sick animals are the least likely to be adopted followed by nursing animals, injured and other. Sick animals often include seriously, chronically sick and disabled animals who usually have special needs and require additional care which could impact people's willingness to adopt them. Injured animals have higher chances of healing as these are usually broken limbs, ect. These animals are more likely to be adopted since they are more likely to heal completely by the time of their adoption. Normal animals have the highest chances of getting adopted.\n",
    "* Does animal's reason for entering shelter have an impact on its adoption rate?\n",
    "\n",
    "We concluded that animals in the Other category are 96 % more likely to not get adopted than to be adopted. That's probably mostly because it consists of animals left for euthanasia, wildlife and abandoned animals. Second least popular category consists of stray animals who are getting adopted 50% more than not. Public assist animals have the best chances at getting adopted with 250% relative difference. \n",
    "* Does animal's type  have an impact on its adoption rate?\n",
    "\n",
    "Dogs are in the best situation for adoption with 161% more adopted dogs than not adopted in the researched period of time. As for cats it's pretty much 50/50 chance for them. When we look at the other animals, as we predicted, they are in the worst situation since there's 87% more not adopted animals than adopted.\n",
    "* Is there a difference between adoption rate of spayed and unspayed females? \n",
    "\n",
    "There are 218% more adopted than not adopted spayed females. The difference is a lot less apparent in intact females where there's  only 49% difference. We can conclude from that that people are more likely to adopt an animal that has been spayed.\n",
    "* Is there a difference between adoption rate of neutered and not neutered males? \n",
    "* Is there a difference between males and females when it comes to adoption rate?\n",
    "\n",
    "There's 191% more adopted neutered males than not adopted. When we compare that percentage with 218% in spayed females we can conclude that when it comes to sex and adoption, it is more important for people for female animals to be spayed than for male animals to be neutered. Looking at the percentages for intact male and females we can deduct that it's less of a problem for people when a male animal is intact (there's 62 % more adopted than not adopted in this category) than when a female animal is intact (there's 49 % more adopted than not adopted in this category). \n",
    "* Does the color of an animal affects its adoption chances?\n",
    "\n",
    "The most popular colours for adoptions are tan/white with 153% more adopted animals than not adopted in this group. The least popular animal colour seems to be brown with 47% more not adopted animals than adopted. As we could see below, brown tabby is the third most common colour/pattern. This might be the reason why it's not that popular among adoption prospects. On top of that, our assumption would be that tabby animals (usually cats) are considered to be mixed or 'not pure' breed which leads people to adopt animals of one color which are considered pure breed.\n",
    "* Does the breed of an animal affects its adoption chances?\n",
    "\n",
    "Domestic mix animals have the least chances of adoption (except for bats which have no chances). If an animal is mixed but resembles some popular breed it has high chances of adoption. In this case for example, there are 228% more adoptions among German Shepherd breed and 186% more adoptions in Labrador Retriever mix. \n",
    "* Does the time spent in the shelter affect animal's adoption chances?\n",
    "\n",
    "Most of the animals don't spend more than one year at the shelter so there's not enough variability to test this question. "
   ]
  },
  {
   "cell_type": "code",
   "execution_count": null,
   "metadata": {},
   "outputs": [],
   "source": []
  }
 ],
 "metadata": {
  "kernelspec": {
   "display_name": "Python 3.9.7 ('base')",
   "language": "python",
   "name": "python3"
  },
  "language_info": {
   "codemirror_mode": {
    "name": "ipython",
    "version": 3
   },
   "file_extension": ".py",
   "mimetype": "text/x-python",
   "name": "python",
   "nbconvert_exporter": "python",
   "pygments_lexer": "ipython3",
   "version": "3.9.7"
  },
  "orig_nbformat": 4,
  "vscode": {
   "interpreter": {
    "hash": "3830f38ecac9f88bec14c7c7decf3e491ca3b4ff333ff11b01306e1c7d7f343d"
   }
  }
 },
 "nbformat": 4,
 "nbformat_minor": 2
}
